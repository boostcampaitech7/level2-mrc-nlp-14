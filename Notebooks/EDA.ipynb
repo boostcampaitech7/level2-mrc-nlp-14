{
 "cells": [
  {
   "cell_type": "markdown",
   "metadata": {},
   "source": [
    "# EDA\n",
    "\n",
    "우선 전체적인 데이터에 대한 이해가 필요하다고 생각이 들었음\n"
   ]
  },
  {
   "cell_type": "code",
   "execution_count": 5,
   "metadata": {},
   "outputs": [],
   "source": [
    "from datasets import load_from_disk\n",
    "import pandas as pd\n",
    "import numpy as np\n",
    "import matplotlib.pyplot as plt\n",
    "import seaborn as sns"
   ]
  },
  {
   "cell_type": "code",
   "execution_count": 6,
   "metadata": {},
   "outputs": [],
   "source": [
    "train_dataset = load_from_disk(\"../data/train_dataset/\")\n",
    "test_dataset = load_from_disk(\"../data/test_dataset/\")\n",
    "\n",
    "wiki_data = pd.read_json(\"../data/wikipedia_documents.json\").T"
   ]
  },
  {
   "cell_type": "code",
   "execution_count": 7,
   "metadata": {},
   "outputs": [
    {
     "data": {
      "text/plain": [
       "DatasetDict({\n",
       "    train: Dataset({\n",
       "        features: ['title', 'context', 'question', 'id', 'answers', 'document_id', '__index_level_0__'],\n",
       "        num_rows: 3952\n",
       "    })\n",
       "    validation: Dataset({\n",
       "        features: ['title', 'context', 'question', 'id', 'answers', 'document_id', '__index_level_0__'],\n",
       "        num_rows: 240\n",
       "    })\n",
       "})"
      ]
     },
     "execution_count": 7,
     "metadata": {},
     "output_type": "execute_result"
    }
   ],
   "source": [
    "train_dataset"
   ]
  },
  {
   "cell_type": "code",
   "execution_count": 8,
   "metadata": {},
   "outputs": [
    {
     "data": {
      "text/plain": [
       "DatasetDict({\n",
       "    validation: Dataset({\n",
       "        features: ['question', 'id'],\n",
       "        num_rows: 600\n",
       "    })\n",
       "})"
      ]
     },
     "execution_count": 8,
     "metadata": {},
     "output_type": "execute_result"
    }
   ],
   "source": [
    "test_dataset"
   ]
  },
  {
   "cell_type": "markdown",
   "metadata": {},
   "source": [
    "## 데이터의 기본적인 정보 확인\n"
   ]
  },
  {
   "cell_type": "code",
   "execution_count": 9,
   "metadata": {},
   "outputs": [
    {
     "data": {
      "text/html": [
       "<div>\n",
       "<style scoped>\n",
       "    .dataframe tbody tr th:only-of-type {\n",
       "        vertical-align: middle;\n",
       "    }\n",
       "\n",
       "    .dataframe tbody tr th {\n",
       "        vertical-align: top;\n",
       "    }\n",
       "\n",
       "    .dataframe thead th {\n",
       "        text-align: right;\n",
       "    }\n",
       "</style>\n",
       "<table border=\"1\" class=\"dataframe\">\n",
       "  <thead>\n",
       "    <tr style=\"text-align: right;\">\n",
       "      <th></th>\n",
       "      <th>text</th>\n",
       "      <th>corpus_source</th>\n",
       "      <th>url</th>\n",
       "      <th>domain</th>\n",
       "      <th>title</th>\n",
       "      <th>author</th>\n",
       "      <th>html</th>\n",
       "      <th>document_id</th>\n",
       "    </tr>\n",
       "  </thead>\n",
       "  <tbody>\n",
       "    <tr>\n",
       "      <th>0</th>\n",
       "      <td>이 문서는 나라 목록이며, 전 세계 206개 나라의 각 현황과 주권 승인 정보를 개...</td>\n",
       "      <td>위키피디아</td>\n",
       "      <td>TODO</td>\n",
       "      <td>None</td>\n",
       "      <td>나라 목록</td>\n",
       "      <td>None</td>\n",
       "      <td>None</td>\n",
       "      <td>0</td>\n",
       "    </tr>\n",
       "    <tr>\n",
       "      <th>1</th>\n",
       "      <td>이 목록에 실린 국가 기준은 1933년 몬테비데오 협약 1장을 참고로 하였다. 협정...</td>\n",
       "      <td>위키피디아</td>\n",
       "      <td>TODO</td>\n",
       "      <td>None</td>\n",
       "      <td>나라 목록</td>\n",
       "      <td>None</td>\n",
       "      <td>None</td>\n",
       "      <td>1</td>\n",
       "    </tr>\n",
       "    <tr>\n",
       "      <th>2</th>\n",
       "      <td>현 서울특별시 종로구 서린동 (구 일제 강점기 경기도 경성부 서린정) 출신이다. 친...</td>\n",
       "      <td>위키피디아</td>\n",
       "      <td>TODO</td>\n",
       "      <td>None</td>\n",
       "      <td>백남준</td>\n",
       "      <td>None</td>\n",
       "      <td>None</td>\n",
       "      <td>2</td>\n",
       "    </tr>\n",
       "    <tr>\n",
       "      <th>3</th>\n",
       "      <td>아오조라 문고(靑空文庫, あおぞらぶんこ|아오조라 분고)는 ‘일본어판 구텐베르크 프로...</td>\n",
       "      <td>위키피디아</td>\n",
       "      <td>TODO</td>\n",
       "      <td>None</td>\n",
       "      <td>아오조라 문고</td>\n",
       "      <td>None</td>\n",
       "      <td>None</td>\n",
       "      <td>3</td>\n",
       "    </tr>\n",
       "    <tr>\n",
       "      <th>4</th>\n",
       "      <td>저자 사망 이후 50년이 지나 저작권이 소멸한 메이지 시대부터 쇼와 시대 초기까지의...</td>\n",
       "      <td>위키피디아</td>\n",
       "      <td>TODO</td>\n",
       "      <td>None</td>\n",
       "      <td>아오조라 문고</td>\n",
       "      <td>None</td>\n",
       "      <td>None</td>\n",
       "      <td>4</td>\n",
       "    </tr>\n",
       "  </tbody>\n",
       "</table>\n",
       "</div>"
      ],
      "text/plain": [
       "                                                text corpus_source   url  \\\n",
       "0  이 문서는 나라 목록이며, 전 세계 206개 나라의 각 현황과 주권 승인 정보를 개...         위키피디아  TODO   \n",
       "1  이 목록에 실린 국가 기준은 1933년 몬테비데오 협약 1장을 참고로 하였다. 협정...         위키피디아  TODO   \n",
       "2  현 서울특별시 종로구 서린동 (구 일제 강점기 경기도 경성부 서린정) 출신이다. 친...         위키피디아  TODO   \n",
       "3  아오조라 문고(靑空文庫, あおぞらぶんこ|아오조라 분고)는 ‘일본어판 구텐베르크 프로...         위키피디아  TODO   \n",
       "4  저자 사망 이후 50년이 지나 저작권이 소멸한 메이지 시대부터 쇼와 시대 초기까지의...         위키피디아  TODO   \n",
       "\n",
       "  domain    title author  html document_id  \n",
       "0   None    나라 목록   None  None           0  \n",
       "1   None    나라 목록   None  None           1  \n",
       "2   None      백남준   None  None           2  \n",
       "3   None  아오조라 문고   None  None           3  \n",
       "4   None  아오조라 문고   None  None           4  "
      ]
     },
     "execution_count": 9,
     "metadata": {},
     "output_type": "execute_result"
    }
   ],
   "source": [
    "wiki_data.head()"
   ]
  },
  {
   "cell_type": "code",
   "execution_count": 10,
   "metadata": {},
   "outputs": [
    {
     "data": {
      "text/html": [
       "<div>\n",
       "<style scoped>\n",
       "    .dataframe tbody tr th:only-of-type {\n",
       "        vertical-align: middle;\n",
       "    }\n",
       "\n",
       "    .dataframe tbody tr th {\n",
       "        vertical-align: top;\n",
       "    }\n",
       "\n",
       "    .dataframe thead th {\n",
       "        text-align: right;\n",
       "    }\n",
       "</style>\n",
       "<table border=\"1\" class=\"dataframe\">\n",
       "  <thead>\n",
       "    <tr style=\"text-align: right;\">\n",
       "      <th></th>\n",
       "      <th>title</th>\n",
       "      <th>context</th>\n",
       "      <th>question</th>\n",
       "      <th>id</th>\n",
       "      <th>answers</th>\n",
       "      <th>document_id</th>\n",
       "      <th>__index_level_0__</th>\n",
       "    </tr>\n",
       "  </thead>\n",
       "  <tbody>\n",
       "    <tr>\n",
       "      <th>0</th>\n",
       "      <td>미국 상원</td>\n",
       "      <td>미국 상의원 또는 미국 상원(United States Senate)은 양원제인 미국...</td>\n",
       "      <td>대통령을 포함한 미국의 행정부 견제권을 갖는 국가 기관은?</td>\n",
       "      <td>mrc-1-000067</td>\n",
       "      <td>{'answer_start': [235], 'text': ['하원']}</td>\n",
       "      <td>18293</td>\n",
       "      <td>42</td>\n",
       "    </tr>\n",
       "    <tr>\n",
       "      <th>1</th>\n",
       "      <td>인사조직관리</td>\n",
       "      <td>'근대적 경영학' 또는 '고전적 경영학'에서 현대적 경영학으로 전환되는 시기는 19...</td>\n",
       "      <td>현대적 인사조직관리의 시발점이 된 책은?</td>\n",
       "      <td>mrc-0-004397</td>\n",
       "      <td>{'answer_start': [212], 'text': ['《경영의 실제》']}</td>\n",
       "      <td>51638</td>\n",
       "      <td>2873</td>\n",
       "    </tr>\n",
       "    <tr>\n",
       "      <th>2</th>\n",
       "      <td>강희제</td>\n",
       "      <td>강희제는 강화된 황권으로 거의 황제 중심의 독단적으로 나라를 이끌어 갔기에 자칫 전...</td>\n",
       "      <td>강희제가 1717년에 쓴 글은 누구를 위해 쓰여졌는가?</td>\n",
       "      <td>mrc-1-000362</td>\n",
       "      <td>{'answer_start': [510], 'text': ['백성']}</td>\n",
       "      <td>5028</td>\n",
       "      <td>230</td>\n",
       "    </tr>\n",
       "    <tr>\n",
       "      <th>3</th>\n",
       "      <td>금동삼존불감</td>\n",
       "      <td>불상을 모시기 위해 나무나 돌, 쇠 등을 깎아 일반적인 건축물보다 작은 규모로 만든...</td>\n",
       "      <td>11~12세기에 제작된 본존불은 보통 어떤 나라의 특징이 전파되었나요?</td>\n",
       "      <td>mrc-0-001510</td>\n",
       "      <td>{'answer_start': [625], 'text': ['중국']}</td>\n",
       "      <td>34146</td>\n",
       "      <td>992</td>\n",
       "    </tr>\n",
       "    <tr>\n",
       "      <th>4</th>\n",
       "      <td>계사명 사리구</td>\n",
       "      <td>동아대학교박물관에서 소장하고 있는 계사명 사리구는 총 4개의 용기로 구성된 조선후기...</td>\n",
       "      <td>명문이 적힌 유물을 구성하는 그릇의 총 개수는?</td>\n",
       "      <td>mrc-0-000823</td>\n",
       "      <td>{'answer_start': [30], 'text': ['4개']}</td>\n",
       "      <td>47334</td>\n",
       "      <td>548</td>\n",
       "    </tr>\n",
       "  </tbody>\n",
       "</table>\n",
       "</div>"
      ],
      "text/plain": [
       "     title                                            context  \\\n",
       "0    미국 상원  미국 상의원 또는 미국 상원(United States Senate)은 양원제인 미국...   \n",
       "1   인사조직관리  '근대적 경영학' 또는 '고전적 경영학'에서 현대적 경영학으로 전환되는 시기는 19...   \n",
       "2      강희제  강희제는 강화된 황권으로 거의 황제 중심의 독단적으로 나라를 이끌어 갔기에 자칫 전...   \n",
       "3   금동삼존불감  불상을 모시기 위해 나무나 돌, 쇠 등을 깎아 일반적인 건축물보다 작은 규모로 만든...   \n",
       "4  계사명 사리구  동아대학교박물관에서 소장하고 있는 계사명 사리구는 총 4개의 용기로 구성된 조선후기...   \n",
       "\n",
       "                                  question            id  \\\n",
       "0         대통령을 포함한 미국의 행정부 견제권을 갖는 국가 기관은?  mrc-1-000067   \n",
       "1                   현대적 인사조직관리의 시발점이 된 책은?  mrc-0-004397   \n",
       "2           강희제가 1717년에 쓴 글은 누구를 위해 쓰여졌는가?  mrc-1-000362   \n",
       "3  11~12세기에 제작된 본존불은 보통 어떤 나라의 특징이 전파되었나요?  mrc-0-001510   \n",
       "4               명문이 적힌 유물을 구성하는 그릇의 총 개수는?  mrc-0-000823   \n",
       "\n",
       "                                         answers  document_id  \\\n",
       "0        {'answer_start': [235], 'text': ['하원']}        18293   \n",
       "1  {'answer_start': [212], 'text': ['《경영의 실제》']}        51638   \n",
       "2        {'answer_start': [510], 'text': ['백성']}         5028   \n",
       "3        {'answer_start': [625], 'text': ['중국']}        34146   \n",
       "4         {'answer_start': [30], 'text': ['4개']}        47334   \n",
       "\n",
       "   __index_level_0__  \n",
       "0                 42  \n",
       "1               2873  \n",
       "2                230  \n",
       "3                992  \n",
       "4                548  "
      ]
     },
     "execution_count": 10,
     "metadata": {},
     "output_type": "execute_result"
    }
   ],
   "source": [
    "train_df = pd.DataFrame(train_dataset[\"train\"])\n",
    "\n",
    "train_df.head()"
   ]
  },
  {
   "cell_type": "code",
   "execution_count": 11,
   "metadata": {},
   "outputs": [
    {
     "name": "stdout",
     "output_type": "stream",
     "text": [
      "<class 'pandas.core.frame.DataFrame'>\n",
      "RangeIndex: 3952 entries, 0 to 3951\n",
      "Data columns (total 7 columns):\n",
      " #   Column             Non-Null Count  Dtype \n",
      "---  ------             --------------  ----- \n",
      " 0   title              3952 non-null   object\n",
      " 1   context            3952 non-null   object\n",
      " 2   question           3952 non-null   object\n",
      " 3   id                 3952 non-null   object\n",
      " 4   answers            3952 non-null   object\n",
      " 5   document_id        3952 non-null   int64 \n",
      " 6   __index_level_0__  3952 non-null   int64 \n",
      "dtypes: int64(2), object(5)\n",
      "memory usage: 216.3+ KB\n"
     ]
    }
   ],
   "source": [
    "train_df.info()"
   ]
  },
  {
   "cell_type": "code",
   "execution_count": 12,
   "metadata": {},
   "outputs": [
    {
     "data": {
      "text/html": [
       "<div>\n",
       "<style scoped>\n",
       "    .dataframe tbody tr th:only-of-type {\n",
       "        vertical-align: middle;\n",
       "    }\n",
       "\n",
       "    .dataframe tbody tr th {\n",
       "        vertical-align: top;\n",
       "    }\n",
       "\n",
       "    .dataframe thead th {\n",
       "        text-align: right;\n",
       "    }\n",
       "</style>\n",
       "<table border=\"1\" class=\"dataframe\">\n",
       "  <thead>\n",
       "    <tr style=\"text-align: right;\">\n",
       "      <th></th>\n",
       "      <th>document_id</th>\n",
       "      <th>__index_level_0__</th>\n",
       "    </tr>\n",
       "  </thead>\n",
       "  <tbody>\n",
       "    <tr>\n",
       "      <th>count</th>\n",
       "      <td>3952.000000</td>\n",
       "      <td>3952.000000</td>\n",
       "    </tr>\n",
       "    <tr>\n",
       "      <th>mean</th>\n",
       "      <td>28399.783401</td>\n",
       "      <td>1496.027328</td>\n",
       "    </tr>\n",
       "    <tr>\n",
       "      <th>std</th>\n",
       "      <td>17475.051830</td>\n",
       "      <td>1060.480948</td>\n",
       "    </tr>\n",
       "    <tr>\n",
       "      <th>min</th>\n",
       "      <td>4572.000000</td>\n",
       "      <td>0.000000</td>\n",
       "    </tr>\n",
       "    <tr>\n",
       "      <th>25%</th>\n",
       "      <td>11615.750000</td>\n",
       "      <td>587.000000</td>\n",
       "    </tr>\n",
       "    <tr>\n",
       "      <th>50%</th>\n",
       "      <td>26295.000000</td>\n",
       "      <td>1189.500000</td>\n",
       "    </tr>\n",
       "    <tr>\n",
       "      <th>75%</th>\n",
       "      <td>44240.250000</td>\n",
       "      <td>2416.250000</td>\n",
       "    </tr>\n",
       "    <tr>\n",
       "      <th>max</th>\n",
       "      <td>60603.000000</td>\n",
       "      <td>3593.000000</td>\n",
       "    </tr>\n",
       "  </tbody>\n",
       "</table>\n",
       "</div>"
      ],
      "text/plain": [
       "        document_id  __index_level_0__\n",
       "count   3952.000000        3952.000000\n",
       "mean   28399.783401        1496.027328\n",
       "std    17475.051830        1060.480948\n",
       "min     4572.000000           0.000000\n",
       "25%    11615.750000         587.000000\n",
       "50%    26295.000000        1189.500000\n",
       "75%    44240.250000        2416.250000\n",
       "max    60603.000000        3593.000000"
      ]
     },
     "execution_count": 12,
     "metadata": {},
     "output_type": "execute_result"
    }
   ],
   "source": [
    "train_df.describe()"
   ]
  },
  {
   "cell_type": "code",
   "execution_count": 13,
   "metadata": {},
   "outputs": [
    {
     "data": {
      "text/html": [
       "<div>\n",
       "<style scoped>\n",
       "    .dataframe tbody tr th:only-of-type {\n",
       "        vertical-align: middle;\n",
       "    }\n",
       "\n",
       "    .dataframe tbody tr th {\n",
       "        vertical-align: top;\n",
       "    }\n",
       "\n",
       "    .dataframe thead th {\n",
       "        text-align: right;\n",
       "    }\n",
       "</style>\n",
       "<table border=\"1\" class=\"dataframe\">\n",
       "  <thead>\n",
       "    <tr style=\"text-align: right;\">\n",
       "      <th></th>\n",
       "      <th>title</th>\n",
       "      <th>context</th>\n",
       "      <th>question</th>\n",
       "      <th>id</th>\n",
       "      <th>answers</th>\n",
       "      <th>document_id</th>\n",
       "      <th>__index_level_0__</th>\n",
       "    </tr>\n",
       "  </thead>\n",
       "  <tbody>\n",
       "    <tr>\n",
       "      <th>0</th>\n",
       "      <td>전효숙</td>\n",
       "      <td>순천여자고등학교 졸업, 1973년 이화여자대학교를 졸업하고 1975년 제17회 사법...</td>\n",
       "      <td>처음으로 부실 경영인에 대한 보상 선고를 받은 회사는?</td>\n",
       "      <td>mrc-0-003264</td>\n",
       "      <td>{'answer_start': [284], 'text': ['한보철강']}</td>\n",
       "      <td>9027</td>\n",
       "      <td>2146</td>\n",
       "    </tr>\n",
       "    <tr>\n",
       "      <th>1</th>\n",
       "      <td>스토우빌선</td>\n",
       "      <td>요크 카운티 동쪽에 처음으로 여객 열차 운행이 시작한 시점은 1868년 토론토 &amp; ...</td>\n",
       "      <td>스카버러 남쪽과 코보콘그 마을의 철도 노선이 처음 연장된 연도는?</td>\n",
       "      <td>mrc-0-004762</td>\n",
       "      <td>{'answer_start': [146], 'text': ['1871년']}</td>\n",
       "      <td>51765</td>\n",
       "      <td>3106</td>\n",
       "    </tr>\n",
       "    <tr>\n",
       "      <th>2</th>\n",
       "      <td>촐라</td>\n",
       "      <td>촐라 정부\\n 촐라의 정부 체제는 전제군주제였으며,2001 촐라의 군주는 절대적인 ...</td>\n",
       "      <td>촌락에서 운영 위원 후보자 이름을 쓰기위해 사용된 것은?</td>\n",
       "      <td>mrc-1-001810</td>\n",
       "      <td>{'answer_start': [517], 'text': ['나뭇잎']}</td>\n",
       "      <td>15694</td>\n",
       "      <td>1180</td>\n",
       "    </tr>\n",
       "    <tr>\n",
       "      <th>3</th>\n",
       "      <td>백조 기사</td>\n",
       "      <td>프랑스의 십자군 무훈시는 1099년 예루살렘 왕국의 통치자가 된 고드프루아 드 부용...</td>\n",
       "      <td>로타이르가 백조를 구하기 위해 사용한 것은?</td>\n",
       "      <td>mrc-1-000219</td>\n",
       "      <td>{'answer_start': [1109], 'text': ['금대야']}</td>\n",
       "      <td>59536</td>\n",
       "      <td>141</td>\n",
       "    </tr>\n",
       "    <tr>\n",
       "      <th>4</th>\n",
       "      <td>탈관료제화</td>\n",
       "      <td>탈관료제화는 현대사회에서 관료제 성격이 약화되는 현상이다. 현대사회에서 관료제는 약...</td>\n",
       "      <td>의견을 자유롭게 나누는 것은 조직 내 어떤 관계에서 가능한가?</td>\n",
       "      <td>mrc-1-000285</td>\n",
       "      <td>{'answer_start': [386], 'text': ['수평적 관계']}</td>\n",
       "      <td>32991</td>\n",
       "      <td>184</td>\n",
       "    </tr>\n",
       "  </tbody>\n",
       "</table>\n",
       "</div>"
      ],
      "text/plain": [
       "   title                                            context  \\\n",
       "0    전효숙  순천여자고등학교 졸업, 1973년 이화여자대학교를 졸업하고 1975년 제17회 사법...   \n",
       "1  스토우빌선  요크 카운티 동쪽에 처음으로 여객 열차 운행이 시작한 시점은 1868년 토론토 & ...   \n",
       "2     촐라  촐라 정부\\n 촐라의 정부 체제는 전제군주제였으며,2001 촐라의 군주는 절대적인 ...   \n",
       "3  백조 기사  프랑스의 십자군 무훈시는 1099년 예루살렘 왕국의 통치자가 된 고드프루아 드 부용...   \n",
       "4  탈관료제화  탈관료제화는 현대사회에서 관료제 성격이 약화되는 현상이다. 현대사회에서 관료제는 약...   \n",
       "\n",
       "                               question            id  \\\n",
       "0        처음으로 부실 경영인에 대한 보상 선고를 받은 회사는?  mrc-0-003264   \n",
       "1  스카버러 남쪽과 코보콘그 마을의 철도 노선이 처음 연장된 연도는?  mrc-0-004762   \n",
       "2       촌락에서 운영 위원 후보자 이름을 쓰기위해 사용된 것은?  mrc-1-001810   \n",
       "3              로타이르가 백조를 구하기 위해 사용한 것은?  mrc-1-000219   \n",
       "4    의견을 자유롭게 나누는 것은 조직 내 어떤 관계에서 가능한가?  mrc-1-000285   \n",
       "\n",
       "                                       answers  document_id  __index_level_0__  \n",
       "0    {'answer_start': [284], 'text': ['한보철강']}         9027               2146  \n",
       "1   {'answer_start': [146], 'text': ['1871년']}        51765               3106  \n",
       "2     {'answer_start': [517], 'text': ['나뭇잎']}        15694               1180  \n",
       "3    {'answer_start': [1109], 'text': ['금대야']}        59536                141  \n",
       "4  {'answer_start': [386], 'text': ['수평적 관계']}        32991                184  "
      ]
     },
     "execution_count": 13,
     "metadata": {},
     "output_type": "execute_result"
    }
   ],
   "source": [
    "valid_df = pd.DataFrame(train_dataset[\"validation\"])\n",
    "\n",
    "valid_df.head()"
   ]
  },
  {
   "cell_type": "code",
   "execution_count": 14,
   "metadata": {},
   "outputs": [
    {
     "name": "stdout",
     "output_type": "stream",
     "text": [
      "<class 'pandas.core.frame.DataFrame'>\n",
      "RangeIndex: 240 entries, 0 to 239\n",
      "Data columns (total 7 columns):\n",
      " #   Column             Non-Null Count  Dtype \n",
      "---  ------             --------------  ----- \n",
      " 0   title              240 non-null    object\n",
      " 1   context            240 non-null    object\n",
      " 2   question           240 non-null    object\n",
      " 3   id                 240 non-null    object\n",
      " 4   answers            240 non-null    object\n",
      " 5   document_id        240 non-null    int64 \n",
      " 6   __index_level_0__  240 non-null    int64 \n",
      "dtypes: int64(2), object(5)\n",
      "memory usage: 13.3+ KB\n"
     ]
    }
   ],
   "source": [
    "valid_df.info()"
   ]
  },
  {
   "cell_type": "code",
   "execution_count": 15,
   "metadata": {},
   "outputs": [
    {
     "data": {
      "text/html": [
       "<div>\n",
       "<style scoped>\n",
       "    .dataframe tbody tr th:only-of-type {\n",
       "        vertical-align: middle;\n",
       "    }\n",
       "\n",
       "    .dataframe tbody tr th {\n",
       "        vertical-align: top;\n",
       "    }\n",
       "\n",
       "    .dataframe thead th {\n",
       "        text-align: right;\n",
       "    }\n",
       "</style>\n",
       "<table border=\"1\" class=\"dataframe\">\n",
       "  <thead>\n",
       "    <tr style=\"text-align: right;\">\n",
       "      <th></th>\n",
       "      <th>document_id</th>\n",
       "      <th>__index_level_0__</th>\n",
       "    </tr>\n",
       "  </thead>\n",
       "  <tbody>\n",
       "    <tr>\n",
       "      <th>count</th>\n",
       "      <td>240.000000</td>\n",
       "      <td>240.000000</td>\n",
       "    </tr>\n",
       "    <tr>\n",
       "      <th>mean</th>\n",
       "      <td>29027.704167</td>\n",
       "      <td>1572.008333</td>\n",
       "    </tr>\n",
       "    <tr>\n",
       "      <th>std</th>\n",
       "      <td>17915.733034</td>\n",
       "      <td>1049.535956</td>\n",
       "    </tr>\n",
       "    <tr>\n",
       "      <th>min</th>\n",
       "      <td>4866.000000</td>\n",
       "      <td>16.000000</td>\n",
       "    </tr>\n",
       "    <tr>\n",
       "      <th>25%</th>\n",
       "      <td>11726.250000</td>\n",
       "      <td>671.250000</td>\n",
       "    </tr>\n",
       "    <tr>\n",
       "      <th>50%</th>\n",
       "      <td>27485.000000</td>\n",
       "      <td>1372.000000</td>\n",
       "    </tr>\n",
       "    <tr>\n",
       "      <th>75%</th>\n",
       "      <td>44860.250000</td>\n",
       "      <td>2470.250000</td>\n",
       "    </tr>\n",
       "    <tr>\n",
       "      <th>max</th>\n",
       "      <td>60305.000000</td>\n",
       "      <td>3575.000000</td>\n",
       "    </tr>\n",
       "  </tbody>\n",
       "</table>\n",
       "</div>"
      ],
      "text/plain": [
       "        document_id  __index_level_0__\n",
       "count    240.000000         240.000000\n",
       "mean   29027.704167        1572.008333\n",
       "std    17915.733034        1049.535956\n",
       "min     4866.000000          16.000000\n",
       "25%    11726.250000         671.250000\n",
       "50%    27485.000000        1372.000000\n",
       "75%    44860.250000        2470.250000\n",
       "max    60305.000000        3575.000000"
      ]
     },
     "execution_count": 15,
     "metadata": {},
     "output_type": "execute_result"
    }
   ],
   "source": [
    "valid_df.describe()"
   ]
  },
  {
   "cell_type": "markdown",
   "metadata": {},
   "source": [
    "## 결측치 확인\n"
   ]
  },
  {
   "cell_type": "code",
   "execution_count": 16,
   "metadata": {},
   "outputs": [
    {
     "data": {
      "text/plain": [
       "title                0\n",
       "context              0\n",
       "question             0\n",
       "id                   0\n",
       "answers              0\n",
       "document_id          0\n",
       "__index_level_0__    0\n",
       "dtype: int64"
      ]
     },
     "execution_count": 16,
     "metadata": {},
     "output_type": "execute_result"
    }
   ],
   "source": [
    "train_df.isnull().sum()"
   ]
  },
  {
   "cell_type": "code",
   "execution_count": 17,
   "metadata": {},
   "outputs": [
    {
     "data": {
      "text/plain": [
       "title                0\n",
       "context              0\n",
       "question             0\n",
       "id                   0\n",
       "answers              0\n",
       "document_id          0\n",
       "__index_level_0__    0\n",
       "dtype: int64"
      ]
     },
     "execution_count": 17,
     "metadata": {},
     "output_type": "execute_result"
    }
   ],
   "source": [
    "valid_df.isnull().sum()"
   ]
  },
  {
   "cell_type": "markdown",
   "metadata": {},
   "source": [
    "## 중복된 값 확인\n",
    "\n",
    "중복된 값이 몇개 정도 있는지 확인하는 과정\n"
   ]
  },
  {
   "cell_type": "code",
   "execution_count": 18,
   "metadata": {},
   "outputs": [
    {
     "name": "stdout",
     "output_type": "stream",
     "text": [
      "2716\n",
      "3340\n",
      "3952\n"
     ]
    }
   ],
   "source": [
    "print(train_df[\"title\"].nunique())\n",
    "print(train_df[\"context\"].nunique())\n",
    "print(train_df[\"question\"].nunique())"
   ]
  },
  {
   "cell_type": "code",
   "execution_count": 19,
   "metadata": {},
   "outputs": [
    {
     "name": "stdout",
     "output_type": "stream",
     "text": [
      "228\n",
      "235\n",
      "240\n"
     ]
    }
   ],
   "source": [
    "print(valid_df[\"title\"].nunique())\n",
    "print(valid_df[\"context\"].nunique())\n",
    "print(valid_df[\"question\"].nunique())"
   ]
  },
  {
   "cell_type": "markdown",
   "metadata": {},
   "source": [
    "## 질문과 context의 길이 확인\n"
   ]
  },
  {
   "cell_type": "code",
   "execution_count": 20,
   "metadata": {},
   "outputs": [],
   "source": [
    "train_df[\"question_length\"] = train_df[\"question\"].apply(len)\n",
    "train_df[\"context_length\"] = train_df[\"context\"].apply(len)"
   ]
  },
  {
   "cell_type": "code",
   "execution_count": 21,
   "metadata": {},
   "outputs": [
    {
     "data": {
      "image/png": "[encoded data removed]",
      "text/plain": [
       "<Figure size 1000x500 with 1 Axes>"
      ]
     },
     "metadata": {},
     "output_type": "display_data"
    }
   ],
   "source": [
    "plt.figure(figsize=(10, 5))\n",
    "sns.histplot(train_df[\"question_length\"], bins=100)\n",
    "plt.title(\"Question Length Distribution\")\n",
    "plt.xlabel(\"Length of Question\")\n",
    "plt.ylabel(\"Frequency\")\n",
    "plt.show()"
   ]
  },
  {
   "cell_type": "code",
   "execution_count": 22,
   "metadata": {},
   "outputs": [
    {
     "data": {
      "image/png": "[encoded data removed]",
      "text/plain": [
       "<Figure size 1000x500 with 1 Axes>"
      ]
     },
     "metadata": {},
     "output_type": "display_data"
    }
   ],
   "source": [
    "plt.figure(figsize=(10, 5))\n",
    "sns.histplot(train_df[\"context_length\"], bins=50)\n",
    "plt.title(\"Context Length Distribution\")\n",
    "plt.xlabel(\"Length of Context\")\n",
    "plt.ylabel(\"Frequency\")\n",
    "plt.show()"
   ]
  },
  {
   "cell_type": "code",
   "execution_count": 23,
   "metadata": {},
   "outputs": [
    {
     "data": {
      "image/png": "[encoded data removed]",
      "text/plain": [
       "<Figure size 1000x500 with 1 Axes>"
      ]
     },
     "metadata": {},
     "output_type": "display_data"
    }
   ],
   "source": [
    "train_df[\"answer_text_length\"] = train_df[\"answers\"].apply(lambda x: len(x[\"text\"][0]))\n",
    "\n",
    "plt.figure(figsize=(10, 5))\n",
    "sns.histplot(train_df[\"answer_text_length\"], bins=30)\n",
    "plt.title(\"Answer Text Length Distribution\")\n",
    "plt.xlabel(\"Length of Answer Text\")\n",
    "plt.ylabel(\"Frequency\")\n",
    "plt.show()"
   ]
  },
  {
   "cell_type": "markdown",
   "metadata": {},
   "source": [
    "## 불용어\n"
   ]
  },
  {
   "cell_type": "code",
   "execution_count": 24,
   "metadata": {},
   "outputs": [],
   "source": [
    "from konlpy.tag import Okt\n",
    "\n",
    "\n",
    "stopwords = \"\"\"\n",
    "ㄱ ㄴ ㄷ ㄹ ㅁ ㅂ ㅅ ㅇ ㅈ ㅊ ㅋ ㅌ ㅍ ㅎ ; ! ? - _ ~\n",
    "\"\"\".split()\n",
    "\n",
    "okt = Okt()\n",
    "\n",
    "train_df[\"stopword_count\"] = train_df[\"context\"].apply(\n",
    "    lambda x: sum(1 for token in okt.morphs(x) if token in stopwords)\n",
    ")\n",
    "valid_df[\"stopword_count\"] = valid_df[\"context\"].apply(\n",
    "    lambda x: sum(1 for token in okt.morphs(x) if token in stopwords)\n",
    ")\n",
    "wiki_data[\"stopword_count\"] = wiki_data[\"text\"].apply(\n",
    "    lambda x: sum(1 for token in okt.morphs(x) if token in stopwords)\n",
    ")"
   ]
  },
  {
   "cell_type": "code",
   "execution_count": 25,
   "metadata": {},
   "outputs": [
    {
     "data": {
      "text/plain": [
       "count    3952.000000\n",
       "mean        8.714069\n",
       "std         6.059832\n",
       "min         0.000000\n",
       "25%         4.000000\n",
       "50%         8.000000\n",
       "75%        12.000000\n",
       "max        47.000000\n",
       "Name: stopword_count, dtype: float64"
      ]
     },
     "execution_count": 25,
     "metadata": {},
     "output_type": "execute_result"
    }
   ],
   "source": [
    "train_df[\"stopword_count\"].describe()"
   ]
  },
  {
   "cell_type": "code",
   "execution_count": 26,
   "metadata": {},
   "outputs": [
    {
     "data": {
      "text/plain": [
       "count    240.000000\n",
       "mean       8.679167\n",
       "std        6.145480\n",
       "min        0.000000\n",
       "25%        5.000000\n",
       "50%        7.000000\n",
       "75%       11.000000\n",
       "max       33.000000\n",
       "Name: stopword_count, dtype: float64"
      ]
     },
     "execution_count": 26,
     "metadata": {},
     "output_type": "execute_result"
    }
   ],
   "source": [
    "valid_df[\"stopword_count\"].describe()"
   ]
  },
  {
   "cell_type": "code",
   "execution_count": 27,
   "metadata": {},
   "outputs": [
    {
     "data": {
      "text/plain": [
       "count    60613.000000\n",
       "mean         9.140250\n",
       "std         15.844889\n",
       "min          0.000000\n",
       "25%          4.000000\n",
       "50%          6.000000\n",
       "75%         11.000000\n",
       "max       1153.000000\n",
       "Name: stopword_count, dtype: float64"
      ]
     },
     "execution_count": 27,
     "metadata": {},
     "output_type": "execute_result"
    }
   ],
   "source": [
    "wiki_data[\"stopword_count\"].describe()"
   ]
  },
  {
   "cell_type": "markdown",
   "metadata": {},
   "source": [
    "## GPT로 라벨 붙이기\n",
    "\n",
    "답변 유형\n",
    "질문 유형\n"
   ]
  },
  {
   "cell_type": "code",
   "execution_count": 3,
   "metadata": {},
   "outputs": [],
   "source": [
    "from datasets import load_from_disk\n",
    "import pandas as pd\n",
    "\n",
    "\n",
    "train_dataset = load_from_disk(\"../data/train_dataset/\")\n",
    "\n",
    "test_dataset = load_from_disk(\"../data/test_dataset/\")"
   ]
  },
  {
   "cell_type": "code",
   "execution_count": 4,
   "metadata": {},
   "outputs": [],
   "source": [
    "train_df = pd.DataFrame(train_dataset[\"train\"])\n",
    "valid_df = pd.DataFrame(train_dataset[\"validation\"])"
   ]
  },
  {
   "cell_type": "code",
   "execution_count": 94,
   "metadata": {},
   "outputs": [
    {
     "data": {
      "text/html": [
       "<div>\n",
       "<style scoped>\n",
       "    .dataframe tbody tr th:only-of-type {\n",
       "        vertical-align: middle;\n",
       "    }\n",
       "\n",
       "    .dataframe tbody tr th {\n",
       "        vertical-align: top;\n",
       "    }\n",
       "\n",
       "    .dataframe thead th {\n",
       "        text-align: right;\n",
       "    }\n",
       "</style>\n",
       "<table border=\"1\" class=\"dataframe\">\n",
       "  <thead>\n",
       "    <tr style=\"text-align: right;\">\n",
       "      <th></th>\n",
       "      <th>title</th>\n",
       "      <th>context</th>\n",
       "      <th>question</th>\n",
       "      <th>id</th>\n",
       "      <th>answers</th>\n",
       "      <th>document_id</th>\n",
       "      <th>__index_level_0__</th>\n",
       "    </tr>\n",
       "  </thead>\n",
       "  <tbody>\n",
       "    <tr>\n",
       "      <th>0</th>\n",
       "      <td>전효숙</td>\n",
       "      <td>순천여자고등학교 졸업, 1973년 이화여자대학교를 졸업하고 1975년 제17회 사법...</td>\n",
       "      <td>처음으로 부실 경영인에 대한 보상 선고를 받은 회사는?</td>\n",
       "      <td>mrc-0-003264</td>\n",
       "      <td>{'answer_start': [284], 'text': ['한보철강']}</td>\n",
       "      <td>9027</td>\n",
       "      <td>2146</td>\n",
       "    </tr>\n",
       "    <tr>\n",
       "      <th>1</th>\n",
       "      <td>스토우빌선</td>\n",
       "      <td>요크 카운티 동쪽에 처음으로 여객 열차 운행이 시작한 시점은 1868년 토론토 &amp; ...</td>\n",
       "      <td>스카버러 남쪽과 코보콘그 마을의 철도 노선이 처음 연장된 연도는?</td>\n",
       "      <td>mrc-0-004762</td>\n",
       "      <td>{'answer_start': [146], 'text': ['1871년']}</td>\n",
       "      <td>51765</td>\n",
       "      <td>3106</td>\n",
       "    </tr>\n",
       "    <tr>\n",
       "      <th>2</th>\n",
       "      <td>촐라</td>\n",
       "      <td>촐라 정부\\n 촐라의 정부 체제는 전제군주제였으며,2001 촐라의 군주는 절대적인 ...</td>\n",
       "      <td>촌락에서 운영 위원 후보자 이름을 쓰기위해 사용된 것은?</td>\n",
       "      <td>mrc-1-001810</td>\n",
       "      <td>{'answer_start': [517], 'text': ['나뭇잎']}</td>\n",
       "      <td>15694</td>\n",
       "      <td>1180</td>\n",
       "    </tr>\n",
       "    <tr>\n",
       "      <th>3</th>\n",
       "      <td>백조 기사</td>\n",
       "      <td>프랑스의 십자군 무훈시는 1099년 예루살렘 왕국의 통치자가 된 고드프루아 드 부용...</td>\n",
       "      <td>로타이르가 백조를 구하기 위해 사용한 것은?</td>\n",
       "      <td>mrc-1-000219</td>\n",
       "      <td>{'answer_start': [1109], 'text': ['금대야']}</td>\n",
       "      <td>59536</td>\n",
       "      <td>141</td>\n",
       "    </tr>\n",
       "    <tr>\n",
       "      <th>4</th>\n",
       "      <td>탈관료제화</td>\n",
       "      <td>탈관료제화는 현대사회에서 관료제 성격이 약화되는 현상이다. 현대사회에서 관료제는 약...</td>\n",
       "      <td>의견을 자유롭게 나누는 것은 조직 내 어떤 관계에서 가능한가?</td>\n",
       "      <td>mrc-1-000285</td>\n",
       "      <td>{'answer_start': [386], 'text': ['수평적 관계']}</td>\n",
       "      <td>32991</td>\n",
       "      <td>184</td>\n",
       "    </tr>\n",
       "  </tbody>\n",
       "</table>\n",
       "</div>"
      ],
      "text/plain": [
       "   title                                            context  \\\n",
       "0    전효숙  순천여자고등학교 졸업, 1973년 이화여자대학교를 졸업하고 1975년 제17회 사법...   \n",
       "1  스토우빌선  요크 카운티 동쪽에 처음으로 여객 열차 운행이 시작한 시점은 1868년 토론토 & ...   \n",
       "2     촐라  촐라 정부\\n 촐라의 정부 체제는 전제군주제였으며,2001 촐라의 군주는 절대적인 ...   \n",
       "3  백조 기사  프랑스의 십자군 무훈시는 1099년 예루살렘 왕국의 통치자가 된 고드프루아 드 부용...   \n",
       "4  탈관료제화  탈관료제화는 현대사회에서 관료제 성격이 약화되는 현상이다. 현대사회에서 관료제는 약...   \n",
       "\n",
       "                               question            id  \\\n",
       "0        처음으로 부실 경영인에 대한 보상 선고를 받은 회사는?  mrc-0-003264   \n",
       "1  스카버러 남쪽과 코보콘그 마을의 철도 노선이 처음 연장된 연도는?  mrc-0-004762   \n",
       "2       촌락에서 운영 위원 후보자 이름을 쓰기위해 사용된 것은?  mrc-1-001810   \n",
       "3              로타이르가 백조를 구하기 위해 사용한 것은?  mrc-1-000219   \n",
       "4    의견을 자유롭게 나누는 것은 조직 내 어떤 관계에서 가능한가?  mrc-1-000285   \n",
       "\n",
       "                                       answers  document_id  __index_level_0__  \n",
       "0    {'answer_start': [284], 'text': ['한보철강']}         9027               2146  \n",
       "1   {'answer_start': [146], 'text': ['1871년']}        51765               3106  \n",
       "2     {'answer_start': [517], 'text': ['나뭇잎']}        15694               1180  \n",
       "3    {'answer_start': [1109], 'text': ['금대야']}        59536                141  \n",
       "4  {'answer_start': [386], 'text': ['수평적 관계']}        32991                184  "
      ]
     },
     "execution_count": 94,
     "metadata": {},
     "output_type": "execute_result"
    }
   ],
   "source": [
    "valid_df.head()"
   ]
  },
  {
   "cell_type": "code",
   "execution_count": 91,
   "metadata": {},
   "outputs": [
    {
     "name": "stdout",
     "output_type": "stream",
     "text": [
      "프리츠 게를리히는 민족주의자인 동시에 반(反) 나치주의자로서 그는 당시 신문사에서 기자일을 하고 있었다. 히틀러를 만나기 이전까지는 히틀러에 대해 매우 호의적으로 표현했는데 같은 민족주의 성향에서는 당연히 히틀러를 호의적으로 언급했던 것이다. 하지만 히틀러와의 면담 후에 히틀러의 정신적인 과대망상에 문제를 느끼고 그 이후부터 반나치 활동을 시작하였다.\\n\\n히틀러를 여러 번 비판했기 때문에 친(親) 나치 성향이었던 신문사 사장으로부터 해고당한다. 1932년 신문 《올바른 길(Der gerade Weg)》을 창간했으며 주로 히틀러와 나치당을 비판하는 기사를 썼다. 히틀러는 뮌헨 폭동 당시 그가 자신의 정신적인 문제를 고발했었기 때문에 그저 '그를 막아라'라는 짧은 말만 남기고 대수롭지 않게 여겼다.\\n\\n그러나 《올바른 길》에서 히틀러의 유전적 우월성에 대한 이론을 비판하였는데 \"히틀러의 인종적 분류에 따르면 히틀러의 코는 훈족인 아틸라의 코와 흡사하다.\"는 내용의 기사를 남겨 히틀러에게 큰 화를 불러 일으켰다. 한편 에른스트 룀의 부관이었던 게오르크 벨(Georg Bell)은 그의 신문사를 방문한 뒤 에른스트 룀의 석유 전매권과 무력 시위에 관한 모든 사실을 제보하였다. 게를리히는 이 내용을 신문사에 싣게 되는데 히틀러는 그제서야 이 문제점을 깨닫고 게를리히를 잡아들이기에 이른다. 결국 게를리히는 장검의 밤 사건에 연루되어 체포되었고 1934년 다하우 강제 수용소에서 죽음을 맞게 된다.\n"
     ]
    }
   ],
   "source": [
    "context = train_df[\"context\"][500]\n",
    "\n",
    "print(context)"
   ]
  },
  {
   "cell_type": "code",
   "execution_count": 133,
   "metadata": {},
   "outputs": [
    {
     "name": "stdout",
     "output_type": "stream",
     "text": [
      "1646년 요절한 인물의 부친은?\n"
     ]
    }
   ],
   "source": [
    "question = train_df[\"question\"][555]\n",
    "\n",
    "print(question)"
   ]
  },
  {
   "cell_type": "code",
   "execution_count": 134,
   "metadata": {},
   "outputs": [
    {
     "name": "stdout",
     "output_type": "stream",
     "text": [
      "['펠리페 4세']\n"
     ]
    }
   ],
   "source": [
    "answer = train_df[\"answers\"][555][\"text\"]\n",
    "\n",
    "print(answer)"
   ]
  },
  {
   "cell_type": "code",
   "execution_count": 5,
   "metadata": {},
   "outputs": [
    {
     "data": {
      "text/html": [
       "<div>\n",
       "<style scoped>\n",
       "    .dataframe tbody tr th:only-of-type {\n",
       "        vertical-align: middle;\n",
       "    }\n",
       "\n",
       "    .dataframe tbody tr th {\n",
       "        vertical-align: top;\n",
       "    }\n",
       "\n",
       "    .dataframe thead th {\n",
       "        text-align: right;\n",
       "    }\n",
       "</style>\n",
       "<table border=\"1\" class=\"dataframe\">\n",
       "  <thead>\n",
       "    <tr style=\"text-align: right;\">\n",
       "      <th></th>\n",
       "      <th>title</th>\n",
       "      <th>context</th>\n",
       "      <th>question</th>\n",
       "      <th>id</th>\n",
       "      <th>answers</th>\n",
       "      <th>document_id</th>\n",
       "      <th>__index_level_0__</th>\n",
       "    </tr>\n",
       "  </thead>\n",
       "  <tbody>\n",
       "    <tr>\n",
       "      <th>40</th>\n",
       "      <td>얀 스뮈츠</td>\n",
       "      <td>스뮈츠는 1870년 5월 24일 케이프 식민지 보펀플라츠에 있는 한 농가에서 태어났...</td>\n",
       "      <td>스뮈츠에게 학비를 지원해 준 사람은?</td>\n",
       "      <td>mrc-0-001870</td>\n",
       "      <td>{'answer_start': [1036], 'text': ['마리즈 교수']}</td>\n",
       "      <td>31510</td>\n",
       "      <td>1228</td>\n",
       "    </tr>\n",
       "    <tr>\n",
       "      <th>41</th>\n",
       "      <td>브루투스 (트로이아)</td>\n",
       "      <td>몬머스의 제프리의 《브리타니아 열왕사》에 나오는 브루투스 이야기는 《브리튼인의 역사...</td>\n",
       "      <td>브루투스가 세운도시의 현재 이름은?</td>\n",
       "      <td>mrc-1-000753</td>\n",
       "      <td>{'answer_start': [1424], 'text': ['런던']}</td>\n",
       "      <td>44222</td>\n",
       "      <td>485</td>\n",
       "    </tr>\n",
       "    <tr>\n",
       "      <th>42</th>\n",
       "      <td>대학 입시 센터 시험</td>\n",
       "      <td>대학 입시 센터 시험(다이가쿠뉴시센타시켄)은 독립 행정법인 대학 입시 센터에서 보통...</td>\n",
       "      <td>일본의 대학 입시는 며칠간 진행되는가?</td>\n",
       "      <td>mrc-0-001073</td>\n",
       "      <td>{'answer_start': [71], 'text': ['이틀']}</td>\n",
       "      <td>33640</td>\n",
       "      <td>709</td>\n",
       "    </tr>\n",
       "    <tr>\n",
       "      <th>43</th>\n",
       "      <td>영주 부석사 조사당 벽화</td>\n",
       "      <td>이 벽화는 부석사를 창건하고 우리나라에서 화엄종을 처음 시작한 의상대사를 모시고 있...</td>\n",
       "      <td>국내 화엄종의 선구자는 누구인가?</td>\n",
       "      <td>mrc-1-001116</td>\n",
       "      <td>{'answer_start': [35], 'text': ['의상대사']}</td>\n",
       "      <td>34140</td>\n",
       "      <td>732</td>\n",
       "    </tr>\n",
       "    <tr>\n",
       "      <th>44</th>\n",
       "      <td>가키자키씨</td>\n",
       "      <td>지금의 가키자키 씨의 시조는 와카사 다케다 씨(若狭武田氏) 또는 난부 씨(南部氏)의...</td>\n",
       "      <td>다케다 노부히로가 통치한 지역은 어디인가?</td>\n",
       "      <td>mrc-1-000995</td>\n",
       "      <td>{'answer_start': [135], 'text': ['홋카이도']}</td>\n",
       "      <td>18605</td>\n",
       "      <td>645</td>\n",
       "    </tr>\n",
       "  </tbody>\n",
       "</table>\n",
       "</div>"
      ],
      "text/plain": [
       "            title                                            context  \\\n",
       "40          얀 스뮈츠  스뮈츠는 1870년 5월 24일 케이프 식민지 보펀플라츠에 있는 한 농가에서 태어났...   \n",
       "41    브루투스 (트로이아)  몬머스의 제프리의 《브리타니아 열왕사》에 나오는 브루투스 이야기는 《브리튼인의 역사...   \n",
       "42    대학 입시 센터 시험  대학 입시 센터 시험(다이가쿠뉴시센타시켄)은 독립 행정법인 대학 입시 센터에서 보통...   \n",
       "43  영주 부석사 조사당 벽화  이 벽화는 부석사를 창건하고 우리나라에서 화엄종을 처음 시작한 의상대사를 모시고 있...   \n",
       "44          가키자키씨  지금의 가키자키 씨의 시조는 와카사 다케다 씨(若狭武田氏) 또는 난부 씨(南部氏)의...   \n",
       "\n",
       "                   question            id  \\\n",
       "40     스뮈츠에게 학비를 지원해 준 사람은?  mrc-0-001870   \n",
       "41      브루투스가 세운도시의 현재 이름은?  mrc-1-000753   \n",
       "42    일본의 대학 입시는 며칠간 진행되는가?  mrc-0-001073   \n",
       "43       국내 화엄종의 선구자는 누구인가?  mrc-1-001116   \n",
       "44  다케다 노부히로가 통치한 지역은 어디인가?  mrc-1-000995   \n",
       "\n",
       "                                         answers  document_id  \\\n",
       "40  {'answer_start': [1036], 'text': ['마리즈 교수']}        31510   \n",
       "41      {'answer_start': [1424], 'text': ['런던']}        44222   \n",
       "42        {'answer_start': [71], 'text': ['이틀']}        33640   \n",
       "43      {'answer_start': [35], 'text': ['의상대사']}        34140   \n",
       "44     {'answer_start': [135], 'text': ['홋카이도']}        18605   \n",
       "\n",
       "    __index_level_0__  \n",
       "40               1228  \n",
       "41                485  \n",
       "42                709  \n",
       "43                732  \n",
       "44                645  "
      ]
     },
     "execution_count": 5,
     "metadata": {},
     "output_type": "execute_result"
    }
   ],
   "source": [
    "test_df = valid_df[40:140]\n",
    "\n",
    "test_df.head()"
   ]
  },
  {
   "cell_type": "code",
   "execution_count": 126,
   "metadata": {},
   "outputs": [],
   "source": [
    "train_df[[\"question\", \"answers\"]].to_csv(\"./train_df_qa.csv\", index=False)\n",
    "valid_df[[\"question\", \"answers\"]].to_csv(\"./valid_df_qa.csv\", index=False)"
   ]
  },
  {
   "cell_type": "code",
   "execution_count": 138,
   "metadata": {},
   "outputs": [
    {
     "name": "stderr",
     "output_type": "stream",
     "text": [
      "Processing rows: 100%|██████████| 3952/3952 [1:33:43<00:00,  1.42s/it]  \n",
      "Processing rows: 100%|██████████| 240/240 [04:38<00:00,  1.16s/it]\n"
     ]
    }
   ],
   "source": [
    "# 답변 유형 분석\n",
    "\n",
    "from openai import OpenAI\n",
    "from tqdm import tqdm\n",
    "\n",
    "\n",
    "client = OpenAI(api_key=\"[API Key]\")\n",
    "\n",
    "\n",
    "def get_answer_label(question, answer):\n",
    "\n",
    "    client = OpenAI(api_key=\"[API Key]\")\n",
    "\n",
    "    response = client.chat.completions.create(\n",
    "        model=\"gpt-4o-mini\",\n",
    "        messages=[\n",
    "            {\n",
    "                \"role\": \"system\",\n",
    "                \"content\": \"\"\"When a ‘question’ and its corresponding ‘answer’ are given, print the type of ‘answer’ in a short form.\n",
    "                The types are divided into ‘인물’ (person), ‘국가’ (country), ‘장소’ (place), ‘시간’ (time), ‘방법’ (method), ‘문학’ (literature), ‘계산’ (calculation). If the type does not belong to any of these, categorize it as ‘기타’ (other).\n",
    "                The output format should be: Type: [].\n",
    "                For example, if the ‘question’ is ‘카예스 대통령에 대한 가톨릭 교회의 저항은 몇 년에 일어났는가?’ and the ‘answer’ is ‘1927년’, the output should be Type: [시간].\n",
    "                Please keep the type output in Korean.\"\"\",\n",
    "            },\n",
    "            {\n",
    "                \"role\": \"user\",\n",
    "                \"content\": f\"question: {question}, answer: {answer}\",\n",
    "            },\n",
    "        ],\n",
    "        max_tokens=10,  # 짧은 응답을 유도하기 위해 제한\n",
    "        temperature=0,\n",
    "    )\n",
    "\n",
    "    try:\n",
    "        output = response.choices[0].message.content.strip()\n",
    "        # '유형: ' 이후의 텍스트만 추출\n",
    "        if output.startswith(\"Type:\"):\n",
    "            answer_type = output.split(\"Type:\")[1].strip()\n",
    "            return answer_type\n",
    "        else:\n",
    "            return \"기타\"  # 형식이 맞지 않을 경우 '기타'로 분류\n",
    "    except Exception as e:\n",
    "        print(f\"Error processing row: {e}\")\n",
    "        return \"기타\"\n",
    "\n",
    "\n",
    "def process_data_with_chatgpt(df):\n",
    "    # tqdm을 사용해 진행 상황 표시\n",
    "    for idx, row in tqdm(df.iterrows(), total=len(df), desc=\"Processing rows\"):\n",
    "        question = row[\"question\"]\n",
    "        answer = row[\"answers\"][\"text\"]  # 기존 'answers' 필드에서 첫 번째 답변 추출\n",
    "\n",
    "        # ChatGPT로부터 답변 유형 받아오기\n",
    "        answer_type = get_answer_label(question, answer)\n",
    "\n",
    "        # 'answer_label' 컬럼에 저장\n",
    "        df.at[idx, \"answer_label\"] = answer_type\n",
    "\n",
    "    return df\n",
    "\n",
    "\n",
    "answer_label_train_df = process_data_with_chatgpt(train_df)\n",
    "\n",
    "answer_label_train_df.to_csv(\"./answer_label_train_df.csv\", index=False)\n",
    "\n",
    "answer_label_valid_df = process_data_with_chatgpt(valid_df)\n",
    "\n",
    "answer_label_valid_df.to_csv(\"./answer_label_valid_df.csv\", index=False)"
   ]
  },
  {
   "cell_type": "code",
   "execution_count": 139,
   "metadata": {},
   "outputs": [
    {
     "name": "stderr",
     "output_type": "stream",
     "text": [
      "Processing rows: 100%|██████████| 3952/3952 [1:27:27<00:00,  1.33s/it]\n",
      "Processing rows: 100%|██████████| 240/240 [05:29<00:00,  1.37s/it]\n"
     ]
    }
   ],
   "source": [
    "# 답변 유형 분석 (수정)\n",
    "\n",
    "from openai import OpenAI\n",
    "from tqdm import tqdm\n",
    "\n",
    "\n",
    "client = OpenAI(api_key=\"[API Key]\")\n",
    "\n",
    "\n",
    "def get_answer_label(question, answer):\n",
    "\n",
    "    client = OpenAI(api_key=\"[API Key]\")\n",
    "\n",
    "    response = client.chat.completions.create(\n",
    "        model=\"gpt-4o-mini\",\n",
    "        messages=[\n",
    "            {\n",
    "                \"role\": \"system\",\n",
    "                \"content\": \"\"\"When a ‘question’ and its corresponding ‘answer’ are given, print the type of ‘answer’ in a short form.\n",
    "                The types are divided into '대상' (what) ‘인물’ (who), ‘장소’ (where), ‘시간’ (when), ‘방법’ (how), ‘원인’ (why). If the type does not belong to any of these, categorize it as ‘기타’ (other).\n",
    "                The output format should be: Type: [].\n",
    "                For example, if the ‘question’ is ‘카예스 대통령에 대한 가톨릭 교회의 저항은 몇 년에 일어났는가?’ and the ‘answer’ is ‘1927년’, the output should be Type: [시간].\n",
    "                Please keep the type output in Korean.\"\"\",\n",
    "            },\n",
    "            {\n",
    "                \"role\": \"user\",\n",
    "                \"content\": f\"question: {question}, answer: {answer}\",\n",
    "            },\n",
    "        ],\n",
    "        max_tokens=10,  # 짧은 응답을 유도하기 위해 제한\n",
    "        temperature=0,\n",
    "    )\n",
    "\n",
    "    try:\n",
    "        output = response.choices[0].message.content.strip()\n",
    "        # '유형: ' 이후의 텍스트만 추출\n",
    "        if output.startswith(\"Type:\"):\n",
    "            answer_type = output.split(\"Type:\")[1].strip()\n",
    "            return answer_type\n",
    "        else:\n",
    "            return \"기타\"  # 형식이 맞지 않을 경우 '기타'로 분류\n",
    "    except Exception as e:\n",
    "        print(f\"Error processing row: {e}\")\n",
    "        return \"기타\"\n",
    "\n",
    "\n",
    "def process_data_with_chatgpt(df):\n",
    "    # tqdm을 사용해 진행 상황 표시\n",
    "    for idx, row in tqdm(df.iterrows(), total=len(df), desc=\"Processing rows\"):\n",
    "        question = row[\"question\"]\n",
    "        answer = row[\"answers\"][\"text\"]  # 기존 'answers' 필드에서 첫 번째 답변 추출\n",
    "\n",
    "        # ChatGPT로부터 답변 유형 받아오기\n",
    "        answer_type = get_answer_label(question, answer)\n",
    "\n",
    "        # 'answer_label' 컬럼에 저장\n",
    "        df.at[idx, \"answer_label\"] = answer_type\n",
    "\n",
    "    return df\n",
    "\n",
    "\n",
    "answer_label_train_df = process_data_with_chatgpt(train_df)\n",
    "\n",
    "answer_label_train_df.to_csv(\"./answer_label_train_df.csv\", index=False)\n",
    "\n",
    "answer_label_valid_df = process_data_with_chatgpt(valid_df)\n",
    "\n",
    "answer_label_valid_df.to_csv(\"./answer_label_valid_df.csv\", index=False)"
   ]
  },
  {
   "cell_type": "code",
   "execution_count": 25,
   "metadata": {},
   "outputs": [
    {
     "name": "stderr",
     "output_type": "stream",
     "text": [
      "Processing rows: 100%|██████████| 3952/3952 [1:18:06<00:00,  1.19s/it]\n",
      "Processing rows: 100%|██████████| 240/240 [05:27<00:00,  1.37s/it]\n"
     ]
    }
   ],
   "source": [
    "# 질문 유형 분석\n",
    "\n",
    "from openai import OpenAI\n",
    "from tqdm import tqdm\n",
    "\n",
    "\n",
    "def get_answer_label(question, answer, context):\n",
    "\n",
    "    client = OpenAI(api_key=\"[API Key]\")\n",
    "\n",
    "    response = client.chat.completions.create(\n",
    "        model=\"gpt-4o-mini\",\n",
    "        messages=[\n",
    "            {\n",
    "                \"role\": \"system\",\n",
    "                \"content\": \"\"\"‘question’ and the ‘answer’ corresponding to the ‘question’, along with the ‘context’ document that serves as the basis for deriving the ‘answer’ from the ‘question’, are given. Classify how the ‘question’ was created using the ‘context’. The classification types are as follows:\n",
    "                If the ‘question’ is created by altering a phrase from the ‘context’, classify it as ‘구문 변형’.\n",
    "                If the ‘question’ is created by replacing words in the ‘context’ sentences with synonyms, classify it as ‘유의어’.\n",
    "                If the ‘question’ is created by substituting a part of the ‘context’ sentences with general knowledge, classify it as ‘일반 상식’.\n",
    "                If the ‘question’ is based on multiple sentences from the ‘context’, classify it as ‘문장 근거 활용’.\n",
    "                If the ‘question’ requires logical reasoning based on the information from the ‘context’, classify it as ‘논리적 추론’.\n",
    "                Any type that does not fit into these five categories should be classified as ‘기타’.\n",
    "                The output format should be 'Type: []'. The types should be output in Korean.\"\"\",\n",
    "            },\n",
    "            {\n",
    "                \"role\": \"user\",\n",
    "                \"content\": f\"question: {question}, answer: {answer}, context: {context}\",\n",
    "            },\n",
    "        ],\n",
    "        max_tokens=10,  # 짧은 응답을 유도하기 위해 제한\n",
    "        temperature=0,\n",
    "    )\n",
    "\n",
    "    try:\n",
    "        output = response.choices[0].message.content.strip()\n",
    "        # '유형: ' 이후의 텍스트만 추출\n",
    "        if output.startswith(\"Type:\"):\n",
    "            answer_type = output.split(\"Type:\")[1].strip()\n",
    "            return answer_type\n",
    "        else:\n",
    "            return \"기타\"  # 형식이 맞지 않을 경우 '기타'로 분류\n",
    "    except Exception as e:\n",
    "        print(f\"Error processing row: {e}\")\n",
    "        return \"기타\"\n",
    "\n",
    "\n",
    "def process_data_with_chatgpt(df):\n",
    "    # tqdm을 사용해 진행 상황 표시\n",
    "    for idx, row in tqdm(df.iterrows(), total=len(df), desc=\"Processing rows\"):\n",
    "        question = row[\"question\"]\n",
    "        answer = row[\"answers\"][\"text\"]\n",
    "        context = row[\"context\"]  # 기존 'answers' 필드에서 첫 번째 답변 추출\n",
    "\n",
    "        # ChatGPT로부터 답변 유형 받아오기\n",
    "        answer_type = get_answer_label(question, answer, context)\n",
    "\n",
    "        # 'answer_label' 컬럼에 저장\n",
    "        df.at[idx, \"question_label\"] = answer_type\n",
    "\n",
    "    return df\n",
    "\n",
    "\n",
    "question_label_train_df = process_data_with_chatgpt(train_df)\n",
    "\n",
    "question_label_train_df.to_csv(\"./question_label_train_df.csv\", index=False)\n",
    "\n",
    "question_label_valid_df = process_data_with_chatgpt(valid_df)\n",
    "\n",
    "question_label_valid_df.to_csv(\"./question_label_valid_df.csv\", index=False)"
   ]
  },
  {
   "cell_type": "code",
   "execution_count": 15,
   "metadata": {},
   "outputs": [],
   "source": [
    "# 정답 유형 EDA\n",
    "train_dataset = pd.read_csv(\"./answer_label_train_df.csv\")\n",
    "valid_dataset = pd.read_csv(\"./answer_label_valid_df.csv\")"
   ]
  },
  {
   "cell_type": "code",
   "execution_count": 16,
   "metadata": {},
   "outputs": [
    {
     "data": {
      "text/html": [
       "<div>\n",
       "<style scoped>\n",
       "    .dataframe tbody tr th:only-of-type {\n",
       "        vertical-align: middle;\n",
       "    }\n",
       "\n",
       "    .dataframe tbody tr th {\n",
       "        vertical-align: top;\n",
       "    }\n",
       "\n",
       "    .dataframe thead th {\n",
       "        text-align: right;\n",
       "    }\n",
       "</style>\n",
       "<table border=\"1\" class=\"dataframe\">\n",
       "  <thead>\n",
       "    <tr style=\"text-align: right;\">\n",
       "      <th></th>\n",
       "      <th>title</th>\n",
       "      <th>context</th>\n",
       "      <th>question</th>\n",
       "      <th>id</th>\n",
       "      <th>answers</th>\n",
       "      <th>document_id</th>\n",
       "      <th>__index_level_0__</th>\n",
       "      <th>answer_label</th>\n",
       "    </tr>\n",
       "  </thead>\n",
       "  <tbody>\n",
       "    <tr>\n",
       "      <th>0</th>\n",
       "      <td>미국 상원</td>\n",
       "      <td>미국 상의원 또는 미국 상원(United States Senate)은 양원제인 미국...</td>\n",
       "      <td>대통령을 포함한 미국의 행정부 견제권을 갖는 국가 기관은?</td>\n",
       "      <td>mrc-1-000067</td>\n",
       "      <td>{'answer_start': [235], 'text': ['하원']}</td>\n",
       "      <td>18293</td>\n",
       "      <td>42</td>\n",
       "      <td>[기타].</td>\n",
       "    </tr>\n",
       "    <tr>\n",
       "      <th>1</th>\n",
       "      <td>인사조직관리</td>\n",
       "      <td>'근대적 경영학' 또는 '고전적 경영학'에서 현대적 경영학으로 전환되는 시기는 19...</td>\n",
       "      <td>현대적 인사조직관리의 시발점이 된 책은?</td>\n",
       "      <td>mrc-0-004397</td>\n",
       "      <td>{'answer_start': [212], 'text': ['《경영의 실제》']}</td>\n",
       "      <td>51638</td>\n",
       "      <td>2873</td>\n",
       "      <td>[기타].</td>\n",
       "    </tr>\n",
       "    <tr>\n",
       "      <th>2</th>\n",
       "      <td>강희제</td>\n",
       "      <td>강희제는 강화된 황권으로 거의 황제 중심의 독단적으로 나라를 이끌어 갔기에 자칫 전...</td>\n",
       "      <td>강희제가 1717년에 쓴 글은 누구를 위해 쓰여졌는가?</td>\n",
       "      <td>mrc-1-000362</td>\n",
       "      <td>{'answer_start': [510], 'text': ['백성']}</td>\n",
       "      <td>5028</td>\n",
       "      <td>230</td>\n",
       "      <td>[대상].</td>\n",
       "    </tr>\n",
       "    <tr>\n",
       "      <th>3</th>\n",
       "      <td>금동삼존불감</td>\n",
       "      <td>불상을 모시기 위해 나무나 돌, 쇠 등을 깎아 일반적인 건축물보다 작은 규모로 만든...</td>\n",
       "      <td>11~12세기에 제작된 본존불은 보통 어떤 나라의 특징이 전파되었나요?</td>\n",
       "      <td>mrc-0-001510</td>\n",
       "      <td>{'answer_start': [625], 'text': ['중국']}</td>\n",
       "      <td>34146</td>\n",
       "      <td>992</td>\n",
       "      <td>[장소].</td>\n",
       "    </tr>\n",
       "    <tr>\n",
       "      <th>4</th>\n",
       "      <td>계사명 사리구</td>\n",
       "      <td>동아대학교박물관에서 소장하고 있는 계사명 사리구는 총 4개의 용기로 구성된 조선후기...</td>\n",
       "      <td>명문이 적힌 유물을 구성하는 그릇의 총 개수는?</td>\n",
       "      <td>mrc-0-000823</td>\n",
       "      <td>{'answer_start': [30], 'text': ['4개']}</td>\n",
       "      <td>47334</td>\n",
       "      <td>548</td>\n",
       "      <td>[기타].</td>\n",
       "    </tr>\n",
       "  </tbody>\n",
       "</table>\n",
       "</div>"
      ],
      "text/plain": [
       "     title                                            context  \\\n",
       "0    미국 상원  미국 상의원 또는 미국 상원(United States Senate)은 양원제인 미국...   \n",
       "1   인사조직관리  '근대적 경영학' 또는 '고전적 경영학'에서 현대적 경영학으로 전환되는 시기는 19...   \n",
       "2      강희제  강희제는 강화된 황권으로 거의 황제 중심의 독단적으로 나라를 이끌어 갔기에 자칫 전...   \n",
       "3   금동삼존불감  불상을 모시기 위해 나무나 돌, 쇠 등을 깎아 일반적인 건축물보다 작은 규모로 만든...   \n",
       "4  계사명 사리구  동아대학교박물관에서 소장하고 있는 계사명 사리구는 총 4개의 용기로 구성된 조선후기...   \n",
       "\n",
       "                                  question            id  \\\n",
       "0         대통령을 포함한 미국의 행정부 견제권을 갖는 국가 기관은?  mrc-1-000067   \n",
       "1                   현대적 인사조직관리의 시발점이 된 책은?  mrc-0-004397   \n",
       "2           강희제가 1717년에 쓴 글은 누구를 위해 쓰여졌는가?  mrc-1-000362   \n",
       "3  11~12세기에 제작된 본존불은 보통 어떤 나라의 특징이 전파되었나요?  mrc-0-001510   \n",
       "4               명문이 적힌 유물을 구성하는 그릇의 총 개수는?  mrc-0-000823   \n",
       "\n",
       "                                         answers  document_id  \\\n",
       "0        {'answer_start': [235], 'text': ['하원']}        18293   \n",
       "1  {'answer_start': [212], 'text': ['《경영의 실제》']}        51638   \n",
       "2        {'answer_start': [510], 'text': ['백성']}         5028   \n",
       "3        {'answer_start': [625], 'text': ['중국']}        34146   \n",
       "4         {'answer_start': [30], 'text': ['4개']}        47334   \n",
       "\n",
       "   __index_level_0__ answer_label  \n",
       "0                 42        [기타].  \n",
       "1               2873        [기타].  \n",
       "2                230        [대상].  \n",
       "3                992        [장소].  \n",
       "4                548        [기타].  "
      ]
     },
     "execution_count": 16,
     "metadata": {},
     "output_type": "execute_result"
    }
   ],
   "source": [
    "train_dataset.head()"
   ]
  },
  {
   "cell_type": "code",
   "execution_count": 19,
   "metadata": {},
   "outputs": [
    {
     "name": "stdout",
     "output_type": "stream",
     "text": [
      "     title                                            context  \\\n",
      "0    미국 상원  미국 상의원 또는 미국 상원(United States Senate)은 양원제인 미국...   \n",
      "1   인사조직관리  '근대적 경영학' 또는 '고전적 경영학'에서 현대적 경영학으로 전환되는 시기는 19...   \n",
      "2      강희제  강희제는 강화된 황권으로 거의 황제 중심의 독단적으로 나라를 이끌어 갔기에 자칫 전...   \n",
      "3   금동삼존불감  불상을 모시기 위해 나무나 돌, 쇠 등을 깎아 일반적인 건축물보다 작은 규모로 만든...   \n",
      "4  계사명 사리구  동아대학교박물관에서 소장하고 있는 계사명 사리구는 총 4개의 용기로 구성된 조선후기...   \n",
      "\n",
      "                                  question            id  \\\n",
      "0         대통령을 포함한 미국의 행정부 견제권을 갖는 국가 기관은?  mrc-1-000067   \n",
      "1                   현대적 인사조직관리의 시발점이 된 책은?  mrc-0-004397   \n",
      "2           강희제가 1717년에 쓴 글은 누구를 위해 쓰여졌는가?  mrc-1-000362   \n",
      "3  11~12세기에 제작된 본존불은 보통 어떤 나라의 특징이 전파되었나요?  mrc-0-001510   \n",
      "4               명문이 적힌 유물을 구성하는 그릇의 총 개수는?  mrc-0-000823   \n",
      "\n",
      "                                         answers  document_id  \\\n",
      "0        {'answer_start': [235], 'text': ['하원']}        18293   \n",
      "1  {'answer_start': [212], 'text': ['《경영의 실제》']}        51638   \n",
      "2        {'answer_start': [510], 'text': ['백성']}         5028   \n",
      "3        {'answer_start': [625], 'text': ['중국']}        34146   \n",
      "4         {'answer_start': [30], 'text': ['4개']}        47334   \n",
      "\n",
      "   __index_level_0__ answer_label  \n",
      "0                 42           기타  \n",
      "1               2873           기타  \n",
      "2                230           대상  \n",
      "3                992           장소  \n",
      "4                548           기타  \n",
      "   title                                            context  \\\n",
      "0    전효숙  순천여자고등학교 졸업, 1973년 이화여자대학교를 졸업하고 1975년 제17회 사법...   \n",
      "1  스토우빌선  요크 카운티 동쪽에 처음으로 여객 열차 운행이 시작한 시점은 1868년 토론토 & ...   \n",
      "2     촐라  촐라 정부\\n 촐라의 정부 체제는 전제군주제였으며,2001 촐라의 군주는 절대적인 ...   \n",
      "3  백조 기사  프랑스의 십자군 무훈시는 1099년 예루살렘 왕국의 통치자가 된 고드프루아 드 부용...   \n",
      "4  탈관료제화  탈관료제화는 현대사회에서 관료제 성격이 약화되는 현상이다. 현대사회에서 관료제는 약...   \n",
      "\n",
      "                               question            id  \\\n",
      "0        처음으로 부실 경영인에 대한 보상 선고를 받은 회사는?  mrc-0-003264   \n",
      "1  스카버러 남쪽과 코보콘그 마을의 철도 노선이 처음 연장된 연도는?  mrc-0-004762   \n",
      "2       촌락에서 운영 위원 후보자 이름을 쓰기위해 사용된 것은?  mrc-1-001810   \n",
      "3              로타이르가 백조를 구하기 위해 사용한 것은?  mrc-1-000219   \n",
      "4    의견을 자유롭게 나누는 것은 조직 내 어떤 관계에서 가능한가?  mrc-1-000285   \n",
      "\n",
      "                                       answers  document_id  \\\n",
      "0    {'answer_start': [284], 'text': ['한보철강']}         9027   \n",
      "1   {'answer_start': [146], 'text': ['1871년']}        51765   \n",
      "2     {'answer_start': [517], 'text': ['나뭇잎']}        15694   \n",
      "3    {'answer_start': [1109], 'text': ['금대야']}        59536   \n",
      "4  {'answer_start': [386], 'text': ['수평적 관계']}        32991   \n",
      "\n",
      "   __index_level_0__ answer_label  \n",
      "0               2146           대상  \n",
      "1               3106           시간  \n",
      "2               1180           기타  \n",
      "3                141           방법  \n",
      "4                184           대상  \n"
     ]
    }
   ],
   "source": [
    "train_dataset[\"answer_label\"] = train_dataset[\"answer_label\"].str.replace(\n",
    "    r\"[\\[\\]\\.]+\", \"\", regex=True\n",
    ")\n",
    "valid_dataset[\"answer_label\"] = valid_dataset[\"answer_label\"].str.replace(\n",
    "    r\"[\\[\\]\\.]+\", \"\", regex=True\n",
    ")\n",
    "\n",
    "print(train_dataset.head())\n",
    "print(valid_dataset.head())"
   ]
  },
  {
   "cell_type": "code",
   "execution_count": 20,
   "metadata": {},
   "outputs": [
    {
     "name": "stdout",
     "output_type": "stream",
     "text": [
      "answer_label\n",
      "인물    1039\n",
      "기타     983\n",
      "대상     700\n",
      "장소     534\n",
      "시간     484\n",
      "원인     110\n",
      "방법     102\n",
      "Name: count, dtype: int64\n",
      "answer_label\n",
      "기타    68\n",
      "인물    48\n",
      "대상    46\n",
      "장소    39\n",
      "시간    25\n",
      "방법     7\n",
      "원인     7\n",
      "Name: count, dtype: int64\n",
      "0\n",
      "0\n"
     ]
    }
   ],
   "source": [
    "train_value_counts = train_dataset[\"answer_label\"].value_counts()\n",
    "valid_value_counts = valid_dataset[\"answer_label\"].value_counts()\n",
    "\n",
    "trian_missing_values = train_dataset[\"answer_label\"].isnull().sum()\n",
    "valid_missing_values = valid_dataset[\"answer_label\"].isnull().sum()\n",
    "\n",
    "print(train_value_counts)\n",
    "print(valid_value_counts)\n",
    "\n",
    "print(trian_missing_values)\n",
    "print(valid_missing_values)"
   ]
  },
  {
   "cell_type": "code",
   "execution_count": 23,
   "metadata": {},
   "outputs": [],
   "source": [
    "plt.rcParams[\"font.family\"] = \"Malgun Gothic\"\n",
    "plt.rcParams[\"axes.unicode_minus\"] = False"
   ]
  },
  {
   "cell_type": "code",
   "execution_count": 24,
   "metadata": {},
   "outputs": [
    {
     "data": {
      "image/png": "[encoded data removed]",
      "text/plain": [
       "<Figure size 800x600 with 1 Axes>"
      ]
     },
     "metadata": {},
     "output_type": "display_data"
    }
   ],
   "source": [
    "import matplotlib.pyplot as plt\n",
    "import seaborn as sns\n",
    "\n",
    "plt.figure(figsize=(8, 6))\n",
    "train_value_counts.plot(kind=\"bar\", color=\"skyblue\")\n",
    "plt.title(\"Distribution of answer_label\")\n",
    "plt.xlabel(\"Answer Label\")\n",
    "plt.ylabel(\"Frequency\")\n",
    "plt.xticks(rotation=45)\n",
    "plt.tight_layout()\n",
    "\n",
    "plt.show()"
   ]
  },
  {
   "cell_type": "code",
   "execution_count": 26,
   "metadata": {},
   "outputs": [],
   "source": [
    "train_dataset = pd.read_csv(\"./question_label_train_df.csv\")\n",
    "valid_dataset = pd.read_csv(\"./question_label_valid_df.csv\")"
   ]
  },
  {
   "cell_type": "code",
   "execution_count": 28,
   "metadata": {},
   "outputs": [],
   "source": [
    "train_dataset[\"question_label\"] = train_dataset[\"question_label\"].str.replace(\n",
    "    r\"[\\[\\]\\.]+\", \"\", regex=True\n",
    ")\n",
    "valid_dataset[\"question_label\"] = valid_dataset[\"question_label\"].str.replace(\n",
    "    r\"[\\[\\]\\.]+\", \"\", regex=True\n",
    ")"
   ]
  },
  {
   "cell_type": "code",
   "execution_count": 29,
   "metadata": {},
   "outputs": [
    {
     "name": "stdout",
     "output_type": "stream",
     "text": [
      "question_label\n",
      "문장 근거 활용    2272\n",
      "구문 변형        773\n",
      "일반 상식        395\n",
      "기타           341\n",
      "논리적 추론       159\n",
      "유의어           11\n",
      "무성 생식          1\n",
      "Name: count, dtype: int64\n",
      "question_label\n",
      "문장 근거 활용    144\n",
      "구문 변형        38\n",
      "기타           31\n",
      "일반 상식        16\n",
      "논리적 추론       10\n",
      "유의어           1\n",
      "Name: count, dtype: int64\n",
      "0\n",
      "0\n"
     ]
    }
   ],
   "source": [
    "train_value_counts = train_dataset[\"question_label\"].value_counts()\n",
    "valid_value_counts = valid_dataset[\"question_label\"].value_counts()\n",
    "\n",
    "trian_missing_values = train_dataset[\"question_label\"].isnull().sum()\n",
    "valid_missing_values = valid_dataset[\"question_label\"].isnull().sum()\n",
    "\n",
    "print(train_value_counts)\n",
    "print(valid_value_counts)\n",
    "\n",
    "print(trian_missing_values)\n",
    "print(valid_missing_values)"
   ]
  },
  {
   "cell_type": "code",
   "execution_count": 37,
   "metadata": {},
   "outputs": [
    {
     "name": "stdout",
     "output_type": "stream",
     "text": [
      "     title                                            context  \\\n",
      "2115   남세균  원핵식물로 조류에 속하는 이들은 거의가 단세포, 군체 및 실 모양인 다세포체를 이룬...   \n",
      "\n",
      "                              question            id  \\\n",
      "2115  광합성으로 남조녹말을 저장하는 조류는 어떤 생식을 하나요?  mrc-1-001363   \n",
      "\n",
      "                                        answers  document_id  \\\n",
      "2115  {'answer_start': [68], 'text': ['무성 생식']}         7582   \n",
      "\n",
      "      __index_level_0__ question_label  \n",
      "2115                889          무성 생식  \n"
     ]
    }
   ],
   "source": [
    "print(train_dataset[train_dataset[\"question_label\"] == \"무성 생식\"])"
   ]
  },
  {
   "cell_type": "code",
   "execution_count": 31,
   "metadata": {},
   "outputs": [
    {
     "data": {
      "image/png": "[encoded data removed]",
      "text/plain": [
       "<Figure size 800x600 with 1 Axes>"
      ]
     },
     "metadata": {},
     "output_type": "display_data"
    }
   ],
   "source": [
    "plt.figure(figsize=(8, 6))\n",
    "train_value_counts.plot(kind=\"bar\")\n",
    "plt.title(\"Distribution of answer_label\")\n",
    "plt.xlabel(\"Answer Label\")\n",
    "plt.ylabel(\"Frequency\")\n",
    "plt.xticks(rotation=45)\n",
    "plt.tight_layout()\n",
    "\n",
    "plt.show()"
   ]
  },
  {
   "cell_type": "code",
   "execution_count": 33,
   "metadata": {},
   "outputs": [
    {
     "data": {
      "image/png": "[encoded data removed]",
      "text/plain": [
       "<Figure size 800x600 with 1 Axes>"
      ]
     },
     "metadata": {},
     "output_type": "display_data"
    }
   ],
   "source": [
    "plt.figure(figsize=(8, 6))\n",
    "valid_value_counts.plot(kind=\"bar\")\n",
    "plt.title(\"Distribution of answer_label\")\n",
    "plt.xlabel(\"Answer Label\")\n",
    "plt.ylabel(\"Frequency\")\n",
    "plt.xticks(rotation=45)\n",
    "plt.tight_layout()\n",
    "\n",
    "plt.show()"
   ]
  },
  {
   "cell_type": "code",
   "execution_count": 2,
   "metadata": {},
   "outputs": [],
   "source": [
    "import pandas as pd\n",
    "\n",
    "answer_train_df = pd.read_csv(\"./answer_label_train_df.csv\")\n",
    "answer_valid_df = pd.read_csv(\"./answer_label_valid_df.csv\")\n",
    "\n",
    "question_train_df = pd.read_csv(\"./question_label_train_df.csv\")\n",
    "question_valid_df = pd.read_csv(\"./question_label_valid_df.csv\")"
   ]
  },
  {
   "cell_type": "code",
   "execution_count": 3,
   "metadata": {},
   "outputs": [
    {
     "data": {
      "text/html": [
       "<div>\n",
       "<style scoped>\n",
       "    .dataframe tbody tr th:only-of-type {\n",
       "        vertical-align: middle;\n",
       "    }\n",
       "\n",
       "    .dataframe tbody tr th {\n",
       "        vertical-align: top;\n",
       "    }\n",
       "\n",
       "    .dataframe thead th {\n",
       "        text-align: right;\n",
       "    }\n",
       "</style>\n",
       "<table border=\"1\" class=\"dataframe\">\n",
       "  <thead>\n",
       "    <tr style=\"text-align: right;\">\n",
       "      <th></th>\n",
       "      <th>title</th>\n",
       "      <th>context</th>\n",
       "      <th>question</th>\n",
       "      <th>id</th>\n",
       "      <th>answers</th>\n",
       "      <th>document_id</th>\n",
       "      <th>__index_level_0__</th>\n",
       "      <th>answer_label</th>\n",
       "    </tr>\n",
       "  </thead>\n",
       "  <tbody>\n",
       "    <tr>\n",
       "      <th>0</th>\n",
       "      <td>미국 상원</td>\n",
       "      <td>미국 상의원 또는 미국 상원(United States Senate)은 양원제인 미국...</td>\n",
       "      <td>대통령을 포함한 미국의 행정부 견제권을 갖는 국가 기관은?</td>\n",
       "      <td>mrc-1-000067</td>\n",
       "      <td>{'answer_start': [235], 'text': ['하원']}</td>\n",
       "      <td>18293</td>\n",
       "      <td>42</td>\n",
       "      <td>[기타].</td>\n",
       "    </tr>\n",
       "    <tr>\n",
       "      <th>1</th>\n",
       "      <td>인사조직관리</td>\n",
       "      <td>'근대적 경영학' 또는 '고전적 경영학'에서 현대적 경영학으로 전환되는 시기는 19...</td>\n",
       "      <td>현대적 인사조직관리의 시발점이 된 책은?</td>\n",
       "      <td>mrc-0-004397</td>\n",
       "      <td>{'answer_start': [212], 'text': ['《경영의 실제》']}</td>\n",
       "      <td>51638</td>\n",
       "      <td>2873</td>\n",
       "      <td>[기타].</td>\n",
       "    </tr>\n",
       "    <tr>\n",
       "      <th>2</th>\n",
       "      <td>강희제</td>\n",
       "      <td>강희제는 강화된 황권으로 거의 황제 중심의 독단적으로 나라를 이끌어 갔기에 자칫 전...</td>\n",
       "      <td>강희제가 1717년에 쓴 글은 누구를 위해 쓰여졌는가?</td>\n",
       "      <td>mrc-1-000362</td>\n",
       "      <td>{'answer_start': [510], 'text': ['백성']}</td>\n",
       "      <td>5028</td>\n",
       "      <td>230</td>\n",
       "      <td>[대상].</td>\n",
       "    </tr>\n",
       "    <tr>\n",
       "      <th>3</th>\n",
       "      <td>금동삼존불감</td>\n",
       "      <td>불상을 모시기 위해 나무나 돌, 쇠 등을 깎아 일반적인 건축물보다 작은 규모로 만든...</td>\n",
       "      <td>11~12세기에 제작된 본존불은 보통 어떤 나라의 특징이 전파되었나요?</td>\n",
       "      <td>mrc-0-001510</td>\n",
       "      <td>{'answer_start': [625], 'text': ['중국']}</td>\n",
       "      <td>34146</td>\n",
       "      <td>992</td>\n",
       "      <td>[장소].</td>\n",
       "    </tr>\n",
       "    <tr>\n",
       "      <th>4</th>\n",
       "      <td>계사명 사리구</td>\n",
       "      <td>동아대학교박물관에서 소장하고 있는 계사명 사리구는 총 4개의 용기로 구성된 조선후기...</td>\n",
       "      <td>명문이 적힌 유물을 구성하는 그릇의 총 개수는?</td>\n",
       "      <td>mrc-0-000823</td>\n",
       "      <td>{'answer_start': [30], 'text': ['4개']}</td>\n",
       "      <td>47334</td>\n",
       "      <td>548</td>\n",
       "      <td>[기타].</td>\n",
       "    </tr>\n",
       "  </tbody>\n",
       "</table>\n",
       "</div>"
      ],
      "text/plain": [
       "     title                                            context  \\\n",
       "0    미국 상원  미국 상의원 또는 미국 상원(United States Senate)은 양원제인 미국...   \n",
       "1   인사조직관리  '근대적 경영학' 또는 '고전적 경영학'에서 현대적 경영학으로 전환되는 시기는 19...   \n",
       "2      강희제  강희제는 강화된 황권으로 거의 황제 중심의 독단적으로 나라를 이끌어 갔기에 자칫 전...   \n",
       "3   금동삼존불감  불상을 모시기 위해 나무나 돌, 쇠 등을 깎아 일반적인 건축물보다 작은 규모로 만든...   \n",
       "4  계사명 사리구  동아대학교박물관에서 소장하고 있는 계사명 사리구는 총 4개의 용기로 구성된 조선후기...   \n",
       "\n",
       "                                  question            id  \\\n",
       "0         대통령을 포함한 미국의 행정부 견제권을 갖는 국가 기관은?  mrc-1-000067   \n",
       "1                   현대적 인사조직관리의 시발점이 된 책은?  mrc-0-004397   \n",
       "2           강희제가 1717년에 쓴 글은 누구를 위해 쓰여졌는가?  mrc-1-000362   \n",
       "3  11~12세기에 제작된 본존불은 보통 어떤 나라의 특징이 전파되었나요?  mrc-0-001510   \n",
       "4               명문이 적힌 유물을 구성하는 그릇의 총 개수는?  mrc-0-000823   \n",
       "\n",
       "                                         answers  document_id  \\\n",
       "0        {'answer_start': [235], 'text': ['하원']}        18293   \n",
       "1  {'answer_start': [212], 'text': ['《경영의 실제》']}        51638   \n",
       "2        {'answer_start': [510], 'text': ['백성']}         5028   \n",
       "3        {'answer_start': [625], 'text': ['중국']}        34146   \n",
       "4         {'answer_start': [30], 'text': ['4개']}        47334   \n",
       "\n",
       "   __index_level_0__ answer_label  \n",
       "0                 42        [기타].  \n",
       "1               2873        [기타].  \n",
       "2                230        [대상].  \n",
       "3                992        [장소].  \n",
       "4                548        [기타].  "
      ]
     },
     "execution_count": 3,
     "metadata": {},
     "output_type": "execute_result"
    }
   ],
   "source": [
    "answer_train_df.head()"
   ]
  },
  {
   "cell_type": "code",
   "execution_count": 4,
   "metadata": {},
   "outputs": [
    {
     "data": {
      "text/html": [
       "<div>\n",
       "<style scoped>\n",
       "    .dataframe tbody tr th:only-of-type {\n",
       "        vertical-align: middle;\n",
       "    }\n",
       "\n",
       "    .dataframe tbody tr th {\n",
       "        vertical-align: top;\n",
       "    }\n",
       "\n",
       "    .dataframe thead th {\n",
       "        text-align: right;\n",
       "    }\n",
       "</style>\n",
       "<table border=\"1\" class=\"dataframe\">\n",
       "  <thead>\n",
       "    <tr style=\"text-align: right;\">\n",
       "      <th></th>\n",
       "      <th>title</th>\n",
       "      <th>context</th>\n",
       "      <th>question</th>\n",
       "      <th>id</th>\n",
       "      <th>answers</th>\n",
       "      <th>document_id</th>\n",
       "      <th>__index_level_0__</th>\n",
       "      <th>question_label</th>\n",
       "    </tr>\n",
       "  </thead>\n",
       "  <tbody>\n",
       "    <tr>\n",
       "      <th>0</th>\n",
       "      <td>미국 상원</td>\n",
       "      <td>미국 상의원 또는 미국 상원(United States Senate)은 양원제인 미국...</td>\n",
       "      <td>대통령을 포함한 미국의 행정부 견제권을 갖는 국가 기관은?</td>\n",
       "      <td>mrc-1-000067</td>\n",
       "      <td>{'answer_start': [235], 'text': ['하원']}</td>\n",
       "      <td>18293</td>\n",
       "      <td>42</td>\n",
       "      <td>[문장 근거 활용]</td>\n",
       "    </tr>\n",
       "    <tr>\n",
       "      <th>1</th>\n",
       "      <td>인사조직관리</td>\n",
       "      <td>'근대적 경영학' 또는 '고전적 경영학'에서 현대적 경영학으로 전환되는 시기는 19...</td>\n",
       "      <td>현대적 인사조직관리의 시발점이 된 책은?</td>\n",
       "      <td>mrc-0-004397</td>\n",
       "      <td>{'answer_start': [212], 'text': ['《경영의 실제》']}</td>\n",
       "      <td>51638</td>\n",
       "      <td>2873</td>\n",
       "      <td>[문장 근거 활용]</td>\n",
       "    </tr>\n",
       "    <tr>\n",
       "      <th>2</th>\n",
       "      <td>강희제</td>\n",
       "      <td>강희제는 강화된 황권으로 거의 황제 중심의 독단적으로 나라를 이끌어 갔기에 자칫 전...</td>\n",
       "      <td>강희제가 1717년에 쓴 글은 누구를 위해 쓰여졌는가?</td>\n",
       "      <td>mrc-1-000362</td>\n",
       "      <td>{'answer_start': [510], 'text': ['백성']}</td>\n",
       "      <td>5028</td>\n",
       "      <td>230</td>\n",
       "      <td>[문장 근거 활용]</td>\n",
       "    </tr>\n",
       "    <tr>\n",
       "      <th>3</th>\n",
       "      <td>금동삼존불감</td>\n",
       "      <td>불상을 모시기 위해 나무나 돌, 쇠 등을 깎아 일반적인 건축물보다 작은 규모로 만든...</td>\n",
       "      <td>11~12세기에 제작된 본존불은 보통 어떤 나라의 특징이 전파되었나요?</td>\n",
       "      <td>mrc-0-001510</td>\n",
       "      <td>{'answer_start': [625], 'text': ['중국']}</td>\n",
       "      <td>34146</td>\n",
       "      <td>992</td>\n",
       "      <td>[일반 상식]</td>\n",
       "    </tr>\n",
       "    <tr>\n",
       "      <th>4</th>\n",
       "      <td>계사명 사리구</td>\n",
       "      <td>동아대학교박물관에서 소장하고 있는 계사명 사리구는 총 4개의 용기로 구성된 조선후기...</td>\n",
       "      <td>명문이 적힌 유물을 구성하는 그릇의 총 개수는?</td>\n",
       "      <td>mrc-0-000823</td>\n",
       "      <td>{'answer_start': [30], 'text': ['4개']}</td>\n",
       "      <td>47334</td>\n",
       "      <td>548</td>\n",
       "      <td>[문장 근거 활용]</td>\n",
       "    </tr>\n",
       "  </tbody>\n",
       "</table>\n",
       "</div>"
      ],
      "text/plain": [
       "     title                                            context  \\\n",
       "0    미국 상원  미국 상의원 또는 미국 상원(United States Senate)은 양원제인 미국...   \n",
       "1   인사조직관리  '근대적 경영학' 또는 '고전적 경영학'에서 현대적 경영학으로 전환되는 시기는 19...   \n",
       "2      강희제  강희제는 강화된 황권으로 거의 황제 중심의 독단적으로 나라를 이끌어 갔기에 자칫 전...   \n",
       "3   금동삼존불감  불상을 모시기 위해 나무나 돌, 쇠 등을 깎아 일반적인 건축물보다 작은 규모로 만든...   \n",
       "4  계사명 사리구  동아대학교박물관에서 소장하고 있는 계사명 사리구는 총 4개의 용기로 구성된 조선후기...   \n",
       "\n",
       "                                  question            id  \\\n",
       "0         대통령을 포함한 미국의 행정부 견제권을 갖는 국가 기관은?  mrc-1-000067   \n",
       "1                   현대적 인사조직관리의 시발점이 된 책은?  mrc-0-004397   \n",
       "2           강희제가 1717년에 쓴 글은 누구를 위해 쓰여졌는가?  mrc-1-000362   \n",
       "3  11~12세기에 제작된 본존불은 보통 어떤 나라의 특징이 전파되었나요?  mrc-0-001510   \n",
       "4               명문이 적힌 유물을 구성하는 그릇의 총 개수는?  mrc-0-000823   \n",
       "\n",
       "                                         answers  document_id  \\\n",
       "0        {'answer_start': [235], 'text': ['하원']}        18293   \n",
       "1  {'answer_start': [212], 'text': ['《경영의 실제》']}        51638   \n",
       "2        {'answer_start': [510], 'text': ['백성']}         5028   \n",
       "3        {'answer_start': [625], 'text': ['중국']}        34146   \n",
       "4         {'answer_start': [30], 'text': ['4개']}        47334   \n",
       "\n",
       "   __index_level_0__ question_label  \n",
       "0                 42     [문장 근거 활용]  \n",
       "1               2873     [문장 근거 활용]  \n",
       "2                230     [문장 근거 활용]  \n",
       "3                992        [일반 상식]  \n",
       "4                548     [문장 근거 활용]  "
      ]
     },
     "execution_count": 4,
     "metadata": {},
     "output_type": "execute_result"
    }
   ],
   "source": [
    "question_train_df.head()"
   ]
  },
  {
   "cell_type": "code",
   "execution_count": 5,
   "metadata": {},
   "outputs": [],
   "source": [
    "train_merged_data = pd.merge(\n",
    "    answer_train_df, question_train_df[[\"id\", \"question_label\"]], on=\"id\", how=\"inner\"\n",
    ")\n",
    "valid_merged_data = pd.merge(\n",
    "    answer_valid_df, question_valid_df[[\"id\", \"question_label\"]], on=\"id\", how=\"inner\"\n",
    ")\n",
    "\n",
    "train_merged_data[\"answer_label\"] = train_merged_data[\"answer_label\"].str.replace(\n",
    "    r\"[\\[\\]\\.]+\", \"\", regex=True\n",
    ")\n",
    "valid_merged_data[\"answer_label\"] = valid_merged_data[\"answer_label\"].str.replace(\n",
    "    r\"[\\[\\]\\.]+\", \"\", regex=True\n",
    ")\n",
    "\n",
    "train_merged_data[\"question_label\"] = train_merged_data[\"question_label\"].str.replace(\n",
    "    r\"[\\[\\]\\.]+\", \"\", regex=True\n",
    ")\n",
    "valid_merged_data[\"question_label\"] = valid_merged_data[\"question_label\"].str.replace(\n",
    "    r\"[\\[\\]\\.]+\", \"\", regex=True\n",
    ")"
   ]
  },
  {
   "cell_type": "code",
   "execution_count": 6,
   "metadata": {},
   "outputs": [
    {
     "data": {
      "text/html": [
       "<div>\n",
       "<style scoped>\n",
       "    .dataframe tbody tr th:only-of-type {\n",
       "        vertical-align: middle;\n",
       "    }\n",
       "\n",
       "    .dataframe tbody tr th {\n",
       "        vertical-align: top;\n",
       "    }\n",
       "\n",
       "    .dataframe thead th {\n",
       "        text-align: right;\n",
       "    }\n",
       "</style>\n",
       "<table border=\"1\" class=\"dataframe\">\n",
       "  <thead>\n",
       "    <tr style=\"text-align: right;\">\n",
       "      <th></th>\n",
       "      <th>title</th>\n",
       "      <th>context</th>\n",
       "      <th>question</th>\n",
       "      <th>id</th>\n",
       "      <th>answers</th>\n",
       "      <th>document_id</th>\n",
       "      <th>__index_level_0__</th>\n",
       "      <th>answer_label</th>\n",
       "      <th>question_label</th>\n",
       "    </tr>\n",
       "  </thead>\n",
       "  <tbody>\n",
       "    <tr>\n",
       "      <th>0</th>\n",
       "      <td>미국 상원</td>\n",
       "      <td>미국 상의원 또는 미국 상원(United States Senate)은 양원제인 미국...</td>\n",
       "      <td>대통령을 포함한 미국의 행정부 견제권을 갖는 국가 기관은?</td>\n",
       "      <td>mrc-1-000067</td>\n",
       "      <td>{'answer_start': [235], 'text': ['하원']}</td>\n",
       "      <td>18293</td>\n",
       "      <td>42</td>\n",
       "      <td>기타</td>\n",
       "      <td>문장 근거 활용</td>\n",
       "    </tr>\n",
       "    <tr>\n",
       "      <th>1</th>\n",
       "      <td>인사조직관리</td>\n",
       "      <td>'근대적 경영학' 또는 '고전적 경영학'에서 현대적 경영학으로 전환되는 시기는 19...</td>\n",
       "      <td>현대적 인사조직관리의 시발점이 된 책은?</td>\n",
       "      <td>mrc-0-004397</td>\n",
       "      <td>{'answer_start': [212], 'text': ['《경영의 실제》']}</td>\n",
       "      <td>51638</td>\n",
       "      <td>2873</td>\n",
       "      <td>기타</td>\n",
       "      <td>문장 근거 활용</td>\n",
       "    </tr>\n",
       "    <tr>\n",
       "      <th>2</th>\n",
       "      <td>강희제</td>\n",
       "      <td>강희제는 강화된 황권으로 거의 황제 중심의 독단적으로 나라를 이끌어 갔기에 자칫 전...</td>\n",
       "      <td>강희제가 1717년에 쓴 글은 누구를 위해 쓰여졌는가?</td>\n",
       "      <td>mrc-1-000362</td>\n",
       "      <td>{'answer_start': [510], 'text': ['백성']}</td>\n",
       "      <td>5028</td>\n",
       "      <td>230</td>\n",
       "      <td>대상</td>\n",
       "      <td>문장 근거 활용</td>\n",
       "    </tr>\n",
       "    <tr>\n",
       "      <th>3</th>\n",
       "      <td>금동삼존불감</td>\n",
       "      <td>불상을 모시기 위해 나무나 돌, 쇠 등을 깎아 일반적인 건축물보다 작은 규모로 만든...</td>\n",
       "      <td>11~12세기에 제작된 본존불은 보통 어떤 나라의 특징이 전파되었나요?</td>\n",
       "      <td>mrc-0-001510</td>\n",
       "      <td>{'answer_start': [625], 'text': ['중국']}</td>\n",
       "      <td>34146</td>\n",
       "      <td>992</td>\n",
       "      <td>장소</td>\n",
       "      <td>일반 상식</td>\n",
       "    </tr>\n",
       "    <tr>\n",
       "      <th>4</th>\n",
       "      <td>계사명 사리구</td>\n",
       "      <td>동아대학교박물관에서 소장하고 있는 계사명 사리구는 총 4개의 용기로 구성된 조선후기...</td>\n",
       "      <td>명문이 적힌 유물을 구성하는 그릇의 총 개수는?</td>\n",
       "      <td>mrc-0-000823</td>\n",
       "      <td>{'answer_start': [30], 'text': ['4개']}</td>\n",
       "      <td>47334</td>\n",
       "      <td>548</td>\n",
       "      <td>기타</td>\n",
       "      <td>문장 근거 활용</td>\n",
       "    </tr>\n",
       "  </tbody>\n",
       "</table>\n",
       "</div>"
      ],
      "text/plain": [
       "     title                                            context  \\\n",
       "0    미국 상원  미국 상의원 또는 미국 상원(United States Senate)은 양원제인 미국...   \n",
       "1   인사조직관리  '근대적 경영학' 또는 '고전적 경영학'에서 현대적 경영학으로 전환되는 시기는 19...   \n",
       "2      강희제  강희제는 강화된 황권으로 거의 황제 중심의 독단적으로 나라를 이끌어 갔기에 자칫 전...   \n",
       "3   금동삼존불감  불상을 모시기 위해 나무나 돌, 쇠 등을 깎아 일반적인 건축물보다 작은 규모로 만든...   \n",
       "4  계사명 사리구  동아대학교박물관에서 소장하고 있는 계사명 사리구는 총 4개의 용기로 구성된 조선후기...   \n",
       "\n",
       "                                  question            id  \\\n",
       "0         대통령을 포함한 미국의 행정부 견제권을 갖는 국가 기관은?  mrc-1-000067   \n",
       "1                   현대적 인사조직관리의 시발점이 된 책은?  mrc-0-004397   \n",
       "2           강희제가 1717년에 쓴 글은 누구를 위해 쓰여졌는가?  mrc-1-000362   \n",
       "3  11~12세기에 제작된 본존불은 보통 어떤 나라의 특징이 전파되었나요?  mrc-0-001510   \n",
       "4               명문이 적힌 유물을 구성하는 그릇의 총 개수는?  mrc-0-000823   \n",
       "\n",
       "                                         answers  document_id  \\\n",
       "0        {'answer_start': [235], 'text': ['하원']}        18293   \n",
       "1  {'answer_start': [212], 'text': ['《경영의 실제》']}        51638   \n",
       "2        {'answer_start': [510], 'text': ['백성']}         5028   \n",
       "3        {'answer_start': [625], 'text': ['중국']}        34146   \n",
       "4         {'answer_start': [30], 'text': ['4개']}        47334   \n",
       "\n",
       "   __index_level_0__ answer_label question_label  \n",
       "0                 42           기타       문장 근거 활용  \n",
       "1               2873           기타       문장 근거 활용  \n",
       "2                230           대상       문장 근거 활용  \n",
       "3                992           장소          일반 상식  \n",
       "4                548           기타       문장 근거 활용  "
      ]
     },
     "execution_count": 6,
     "metadata": {},
     "output_type": "execute_result"
    }
   ],
   "source": [
    "train_merged_data.head()"
   ]
  },
  {
   "cell_type": "code",
   "execution_count": 7,
   "metadata": {},
   "outputs": [
    {
     "data": {
      "text/html": [
       "<div>\n",
       "<style scoped>\n",
       "    .dataframe tbody tr th:only-of-type {\n",
       "        vertical-align: middle;\n",
       "    }\n",
       "\n",
       "    .dataframe tbody tr th {\n",
       "        vertical-align: top;\n",
       "    }\n",
       "\n",
       "    .dataframe thead th {\n",
       "        text-align: right;\n",
       "    }\n",
       "</style>\n",
       "<table border=\"1\" class=\"dataframe\">\n",
       "  <thead>\n",
       "    <tr style=\"text-align: right;\">\n",
       "      <th></th>\n",
       "      <th>title</th>\n",
       "      <th>context</th>\n",
       "      <th>question</th>\n",
       "      <th>id</th>\n",
       "      <th>answers</th>\n",
       "      <th>document_id</th>\n",
       "      <th>__index_level_0__</th>\n",
       "      <th>answer_label</th>\n",
       "      <th>question_label</th>\n",
       "    </tr>\n",
       "  </thead>\n",
       "  <tbody>\n",
       "    <tr>\n",
       "      <th>0</th>\n",
       "      <td>전효숙</td>\n",
       "      <td>순천여자고등학교 졸업, 1973년 이화여자대학교를 졸업하고 1975년 제17회 사법...</td>\n",
       "      <td>처음으로 부실 경영인에 대한 보상 선고를 받은 회사는?</td>\n",
       "      <td>mrc-0-003264</td>\n",
       "      <td>{'answer_start': [284], 'text': ['한보철강']}</td>\n",
       "      <td>9027</td>\n",
       "      <td>2146</td>\n",
       "      <td>대상</td>\n",
       "      <td>문장 근거 활용</td>\n",
       "    </tr>\n",
       "    <tr>\n",
       "      <th>1</th>\n",
       "      <td>스토우빌선</td>\n",
       "      <td>요크 카운티 동쪽에 처음으로 여객 열차 운행이 시작한 시점은 1868년 토론토 &amp; ...</td>\n",
       "      <td>스카버러 남쪽과 코보콘그 마을의 철도 노선이 처음 연장된 연도는?</td>\n",
       "      <td>mrc-0-004762</td>\n",
       "      <td>{'answer_start': [146], 'text': ['1871년']}</td>\n",
       "      <td>51765</td>\n",
       "      <td>3106</td>\n",
       "      <td>시간</td>\n",
       "      <td>문장 근거 활용</td>\n",
       "    </tr>\n",
       "    <tr>\n",
       "      <th>2</th>\n",
       "      <td>촐라</td>\n",
       "      <td>촐라 정부\\n 촐라의 정부 체제는 전제군주제였으며,2001 촐라의 군주는 절대적인 ...</td>\n",
       "      <td>촌락에서 운영 위원 후보자 이름을 쓰기위해 사용된 것은?</td>\n",
       "      <td>mrc-1-001810</td>\n",
       "      <td>{'answer_start': [517], 'text': ['나뭇잎']}</td>\n",
       "      <td>15694</td>\n",
       "      <td>1180</td>\n",
       "      <td>기타</td>\n",
       "      <td>문장 근거 활용</td>\n",
       "    </tr>\n",
       "    <tr>\n",
       "      <th>3</th>\n",
       "      <td>백조 기사</td>\n",
       "      <td>프랑스의 십자군 무훈시는 1099년 예루살렘 왕국의 통치자가 된 고드프루아 드 부용...</td>\n",
       "      <td>로타이르가 백조를 구하기 위해 사용한 것은?</td>\n",
       "      <td>mrc-1-000219</td>\n",
       "      <td>{'answer_start': [1109], 'text': ['금대야']}</td>\n",
       "      <td>59536</td>\n",
       "      <td>141</td>\n",
       "      <td>방법</td>\n",
       "      <td>문장 근거 활용</td>\n",
       "    </tr>\n",
       "    <tr>\n",
       "      <th>4</th>\n",
       "      <td>탈관료제화</td>\n",
       "      <td>탈관료제화는 현대사회에서 관료제 성격이 약화되는 현상이다. 현대사회에서 관료제는 약...</td>\n",
       "      <td>의견을 자유롭게 나누는 것은 조직 내 어떤 관계에서 가능한가?</td>\n",
       "      <td>mrc-1-000285</td>\n",
       "      <td>{'answer_start': [386], 'text': ['수평적 관계']}</td>\n",
       "      <td>32991</td>\n",
       "      <td>184</td>\n",
       "      <td>대상</td>\n",
       "      <td>문장 근거 활용</td>\n",
       "    </tr>\n",
       "  </tbody>\n",
       "</table>\n",
       "</div>"
      ],
      "text/plain": [
       "   title                                            context  \\\n",
       "0    전효숙  순천여자고등학교 졸업, 1973년 이화여자대학교를 졸업하고 1975년 제17회 사법...   \n",
       "1  스토우빌선  요크 카운티 동쪽에 처음으로 여객 열차 운행이 시작한 시점은 1868년 토론토 & ...   \n",
       "2     촐라  촐라 정부\\n 촐라의 정부 체제는 전제군주제였으며,2001 촐라의 군주는 절대적인 ...   \n",
       "3  백조 기사  프랑스의 십자군 무훈시는 1099년 예루살렘 왕국의 통치자가 된 고드프루아 드 부용...   \n",
       "4  탈관료제화  탈관료제화는 현대사회에서 관료제 성격이 약화되는 현상이다. 현대사회에서 관료제는 약...   \n",
       "\n",
       "                               question            id  \\\n",
       "0        처음으로 부실 경영인에 대한 보상 선고를 받은 회사는?  mrc-0-003264   \n",
       "1  스카버러 남쪽과 코보콘그 마을의 철도 노선이 처음 연장된 연도는?  mrc-0-004762   \n",
       "2       촌락에서 운영 위원 후보자 이름을 쓰기위해 사용된 것은?  mrc-1-001810   \n",
       "3              로타이르가 백조를 구하기 위해 사용한 것은?  mrc-1-000219   \n",
       "4    의견을 자유롭게 나누는 것은 조직 내 어떤 관계에서 가능한가?  mrc-1-000285   \n",
       "\n",
       "                                       answers  document_id  \\\n",
       "0    {'answer_start': [284], 'text': ['한보철강']}         9027   \n",
       "1   {'answer_start': [146], 'text': ['1871년']}        51765   \n",
       "2     {'answer_start': [517], 'text': ['나뭇잎']}        15694   \n",
       "3    {'answer_start': [1109], 'text': ['금대야']}        59536   \n",
       "4  {'answer_start': [386], 'text': ['수평적 관계']}        32991   \n",
       "\n",
       "   __index_level_0__ answer_label question_label  \n",
       "0               2146           대상       문장 근거 활용  \n",
       "1               3106           시간       문장 근거 활용  \n",
       "2               1180           기타       문장 근거 활용  \n",
       "3                141           방법       문장 근거 활용  \n",
       "4                184           대상       문장 근거 활용  "
      ]
     },
     "execution_count": 7,
     "metadata": {},
     "output_type": "execute_result"
    }
   ],
   "source": [
    "valid_merged_data.head()"
   ]
  },
  {
   "cell_type": "code",
   "execution_count": 9,
   "metadata": {},
   "outputs": [],
   "source": [
    "train_merged_data.to_json(\n",
    "    \"train_dataset_label.json\", orient=\"records\", force_ascii=False, indent=4\n",
    ")\n",
    "valid_merged_data.to_json(\n",
    "    \"valid_dataset_label.json\", orient=\"records\", force_ascii=False, indent=4\n",
    ")"
   ]
  },
  {
   "cell_type": "markdown",
   "metadata": {},
   "source": [
    "## LLaMa를 사용한 버전\n",
    "\n",
    "생각보다 성능이 좋지 않아 포기\n"
   ]
  },
  {
   "cell_type": "code",
   "execution_count": 5,
   "metadata": {},
   "outputs": [
    {
     "name": "stderr",
     "output_type": "stream",
     "text": [
      "'CMAKE_ARGS'��(��) ���� �Ǵ� �ܺ� ����, ������ �� �ִ� ���α׷�, �Ǵ�\n",
      "��ġ ������ �ƴմϴ�.\n"
     ]
    },
    {
     "name": "stdout",
     "output_type": "stream",
     "text": [
      "C:\\Users\\Yohan\\Desktop\\naverboostcamp_prj\\ODQA\\level2-mrc-nlp-14\\Notebooks\\model\n"
     ]
    },
    {
     "name": "stderr",
     "output_type": "stream",
     "text": [
      "\n",
      "Fetching 6 files:   0%|          | 0/6 [00:00<?, ?it/s]Downloading '.gitattributes' to 'C:\\Users\\Yohan\\Desktop\\naverboostcamp_prj\\ODQA\\level2-mrc-nlp-14\\Notebooks\\model\\.cache\\huggingface\\download\\.gitattributes.4eba1088cbec5eae276a6990930ab6a5136103d1.incomplete'\n",
      "Downloading 'tokenizer.json' to 'C:\\Users\\Yohan\\Desktop\\naverboostcamp_prj\\ODQA\\level2-mrc-nlp-14\\Notebooks\\model\\.cache\\huggingface\\download\\tokenizer.json.1e08eea05dd130df12c7535a8f01dcb5426ea1fc.incomplete'\n",
      "Downloading 'special_tokens_map.json' to 'C:\\Users\\Yohan\\Desktop\\naverboostcamp_prj\\ODQA\\level2-mrc-nlp-14\\Notebooks\\model\\.cache\\huggingface\\download\\special_tokens_map.json.86e4627c9ec4a278205b4598a034199e721e5bd2.incomplete'\n",
      "Downloading 'tokenizer_config.json' to 'C:\\Users\\Yohan\\Desktop\\naverboostcamp_prj\\ODQA\\level2-mrc-nlp-14\\Notebooks\\model\\.cache\\huggingface\\download\\tokenizer_config.json.6c407ae86d155b3c4100b980084c5c8105cec980.incomplete'\n",
      "Downloading 'README.md' to 'C:\\Users\\Yohan\\Desktop\\naverboostcamp_prj\\ODQA\\level2-mrc-nlp-14\\Notebooks\\model\\.cache\\huggingface\\download\\README.md.fcb8006481e20379e4369a3169747b11fbad7038.incomplete'\n",
      "Download complete. Moving file to C:\\Users\\Yohan\\Desktop\\naverboostcamp_prj\\ODQA\\level2-mrc-nlp-14\\Notebooks\\model\\.gitattributes\n",
      "\n",
      "Fetching 6 files:  17%|█▋        | 1/6 [00:00<00:02,  2.43it/s]Downloading 'llama-3-Korean-Bllossom-8B-Q4_K_M.gguf' to 'C:\\Users\\Yohan\\Desktop\\naverboostcamp_prj\\ODQA\\level2-mrc-nlp-14\\Notebooks\\model\\.cache\\huggingface\\download\\llama-3-Korean-Bllossom-8B-Q4_K_M.gguf.36edb3ca5dfd7dd1cc7ea3ee440a461befa79efb5b2cbe6aa1304b3dbc34f39c.incomplete'\n",
      "Download complete. Moving file to C:\\Users\\Yohan\\Desktop\\naverboostcamp_prj\\ODQA\\level2-mrc-nlp-14\\Notebooks\\model\\special_tokens_map.json\n",
      "Download complete. Moving file to C:\\Users\\Yohan\\Desktop\\naverboostcamp_prj\\ODQA\\level2-mrc-nlp-14\\Notebooks\\model\\tokenizer_config.json\n",
      "Download complete. Moving file to C:\\Users\\Yohan\\Desktop\\naverboostcamp_prj\\ODQA\\level2-mrc-nlp-14\\Notebooks\\model\\README.md\n",
      "\n",
      "Fetching 6 files:  33%|███▎      | 2/6 [00:00<00:01,  3.94it/s]Download complete. Moving file to C:\\Users\\Yohan\\Desktop\\naverboostcamp_prj\\ODQA\\level2-mrc-nlp-14\\Notebooks\\model\\tokenizer.json\n",
      "Download complete. Moving file to C:\\Users\\Yohan\\Desktop\\naverboostcamp_prj\\ODQA\\level2-mrc-nlp-14\\Notebooks\\model\\llama-3-Korean-Bllossom-8B-Q4_K_M.gguf\n",
      "\n",
      "Fetching 6 files:  50%|█████     | 3/6 [08:33<11:42, 234.33s/it]\n",
      "Fetching 6 files: 100%|██████████| 6/6 [08:33<00:00, 85.57s/it] \n"
     ]
    }
   ],
   "source": [
    "!CMAKE_ARGS=\"-DLLAMA_CUDA=on\" pip install llama-cpp-python\n",
    "!huggingface-cli download MLP-KTLim/llama-3-Korean-Bllossom-8B-gguf-Q4_K_M --local-dir=C:/Users/Yohan/Desktop/naverboostcamp_prj/ODQA/level2-mrc-nlp-14/Notebooks/model"
   ]
  },
  {
   "cell_type": "code",
   "execution_count": 46,
   "metadata": {},
   "outputs": [
    {
     "name": "stderr",
     "output_type": "stream",
     "text": [
      "llama_model_loader: loaded meta data with 30 key-value pairs and 291 tensors from ./model/llama-3-Korean-Bllossom-8B-Q4_K_M.gguf (version GGUF V3 (latest))\n",
      "llama_model_loader: Dumping metadata keys/values. Note: KV overrides do not apply in this output.\n",
      "llama_model_loader: - kv   0:                       general.architecture str              = llama\n",
      "llama_model_loader: - kv   1:                               general.name str              = llama-3-Korean-Bllossom-8B\n",
      "llama_model_loader: - kv   2:                          llama.block_count u32              = 32\n",
      "llama_model_loader: - kv   3:                       llama.context_length u32              = 8192\n",
      "llama_model_loader: - kv   4:                     llama.embedding_length u32              = 4096\n",
      "llama_model_loader: - kv   5:                  llama.feed_forward_length u32              = 14336\n",
      "llama_model_loader: - kv   6:                 llama.attention.head_count u32              = 32\n",
      "llama_model_loader: - kv   7:              llama.attention.head_count_kv u32              = 8\n",
      "llama_model_loader: - kv   8:                       llama.rope.freq_base f32              = 500000.000000\n",
      "llama_model_loader: - kv   9:     llama.attention.layer_norm_rms_epsilon f32              = 0.000010\n",
      "llama_model_loader: - kv  10:                          general.file_type u32              = 15\n",
      "llama_model_loader: - kv  11:                           llama.vocab_size u32              = 128256\n",
      "llama_model_loader: - kv  12:                 llama.rope.dimension_count u32              = 128\n",
      "llama_model_loader: - kv  13:                       tokenizer.ggml.model str              = gpt2\n",
      "llama_model_loader: - kv  14:                         tokenizer.ggml.pre str              = llama-bpe\n",
      "llama_model_loader: - kv  15:                      tokenizer.ggml.tokens arr[str,128256]  = [\"!\", \"\\\"\", \"#\", \"$\", \"%\", \"&\", \"'\", ...\n",
      "llama_model_loader: - kv  16:                  tokenizer.ggml.token_type arr[i32,128256]  = [1, 1, 1, 1, 1, 1, 1, 1, 1, 1, 1, 1, ...\n",
      "llama_model_loader: - kv  17:                      tokenizer.ggml.merges arr[str,280147]  = [\"Ġ Ġ\", \"Ġ ĠĠĠ\", \"ĠĠ ĠĠ\", \"...\n",
      "llama_model_loader: - kv  18:                tokenizer.ggml.bos_token_id u32              = 128000\n",
      "llama_model_loader: - kv  19:                tokenizer.ggml.eos_token_id u32              = 128009\n",
      "llama_model_loader: - kv  20:            tokenizer.ggml.padding_token_id u32              = 128001\n",
      "llama_model_loader: - kv  21:                    tokenizer.chat_template str              = {% if not add_generation_prompt is de...\n",
      "llama_model_loader: - kv  22:               general.quantization_version u32              = 2\n",
      "llama_model_loader: - kv  23:                                general.url str              = https://huggingface.co/mradermacher/l...\n",
      "llama_model_loader: - kv  24:              mradermacher.quantize_version str              = 2\n",
      "llama_model_loader: - kv  25:                  mradermacher.quantized_by str              = mradermacher\n",
      "llama_model_loader: - kv  26:                  mradermacher.quantized_at str              = 2024-06-18T22:17:22+02:00\n",
      "llama_model_loader: - kv  27:                  mradermacher.quantized_on str              = leia\n",
      "llama_model_loader: - kv  28:                         general.source.url str              = https://huggingface.co/MLP-KTLim/llam...\n",
      "llama_model_loader: - kv  29:                  mradermacher.convert_type str              = hf\n",
      "llama_model_loader: - type  f32:   65 tensors\n",
      "llama_model_loader: - type q4_K:  193 tensors\n",
      "llama_model_loader: - type q6_K:   33 tensors\n",
      "llm_load_vocab: special tokens cache size = 256\n",
      "llm_load_vocab: token to piece cache size = 0.8000 MB\n",
      "llm_load_print_meta: format           = GGUF V3 (latest)\n",
      "llm_load_print_meta: arch             = llama\n",
      "llm_load_print_meta: vocab type       = BPE\n",
      "llm_load_print_meta: n_vocab          = 128256\n",
      "llm_load_print_meta: n_merges         = 280147\n",
      "llm_load_print_meta: vocab_only       = 0\n",
      "llm_load_print_meta: n_ctx_train      = 8192\n",
      "llm_load_print_meta: n_embd           = 4096\n",
      "llm_load_print_meta: n_layer          = 32\n",
      "llm_load_print_meta: n_head           = 32\n",
      "llm_load_print_meta: n_head_kv        = 8\n",
      "llm_load_print_meta: n_rot            = 128\n",
      "llm_load_print_meta: n_swa            = 0\n",
      "llm_load_print_meta: n_embd_head_k    = 128\n",
      "llm_load_print_meta: n_embd_head_v    = 128\n",
      "llm_load_print_meta: n_gqa            = 4\n",
      "llm_load_print_meta: n_embd_k_gqa     = 1024\n",
      "llm_load_print_meta: n_embd_v_gqa     = 1024\n",
      "llm_load_print_meta: f_norm_eps       = 0.0e+00\n",
      "llm_load_print_meta: f_norm_rms_eps   = 1.0e-05\n",
      "llm_load_print_meta: f_clamp_kqv      = 0.0e+00\n",
      "llm_load_print_meta: f_max_alibi_bias = 0.0e+00\n",
      "llm_load_print_meta: f_logit_scale    = 0.0e+00\n",
      "llm_load_print_meta: n_ff             = 14336\n",
      "llm_load_print_meta: n_expert         = 0\n",
      "llm_load_print_meta: n_expert_used    = 0\n",
      "llm_load_print_meta: causal attn      = 1\n",
      "llm_load_print_meta: pooling type     = 0\n",
      "llm_load_print_meta: rope type        = 0\n",
      "llm_load_print_meta: rope scaling     = linear\n",
      "llm_load_print_meta: freq_base_train  = 500000.0\n",
      "llm_load_print_meta: freq_scale_train = 1\n",
      "llm_load_print_meta: n_ctx_orig_yarn  = 8192\n",
      "llm_load_print_meta: rope_finetuned   = unknown\n",
      "llm_load_print_meta: ssm_d_conv       = 0\n",
      "llm_load_print_meta: ssm_d_inner      = 0\n",
      "llm_load_print_meta: ssm_d_state      = 0\n",
      "llm_load_print_meta: ssm_dt_rank      = 0\n",
      "llm_load_print_meta: ssm_dt_b_c_rms   = 0\n",
      "llm_load_print_meta: model type       = 8B\n",
      "llm_load_print_meta: model ftype      = Q4_K - Medium\n",
      "llm_load_print_meta: model params     = 8.03 B\n",
      "llm_load_print_meta: model size       = 4.58 GiB (4.89 BPW) \n",
      "llm_load_print_meta: general.name     = llama-3-Korean-Bllossom-8B\n",
      "llm_load_print_meta: BOS token        = 128000 '<|begin_of_text|>'\n",
      "llm_load_print_meta: EOS token        = 128009 '<|eot_id|>'\n",
      "llm_load_print_meta: PAD token        = 128001 '<|end_of_text|>'\n",
      "llm_load_print_meta: LF token         = 128 'Ä'\n",
      "llm_load_print_meta: EOT token        = 128009 '<|eot_id|>'\n",
      "llm_load_print_meta: EOG token        = 128009 '<|eot_id|>'\n",
      "llm_load_print_meta: max token length = 256\n",
      "llm_load_tensors: ggml ctx size =    0.14 MiB\n",
      "llm_load_tensors:        CPU buffer size =  4685.30 MiB\n",
      "........................................................................................\n",
      "llama_new_context_with_model: n_ctx      = 1024\n",
      "llama_new_context_with_model: n_batch    = 512\n",
      "llama_new_context_with_model: n_ubatch   = 512\n",
      "llama_new_context_with_model: flash_attn = 0\n",
      "llama_new_context_with_model: freq_base  = 500000.0\n",
      "llama_new_context_with_model: freq_scale = 1\n",
      "llama_kv_cache_init:        CPU KV buffer size =   128.00 MiB\n",
      "llama_new_context_with_model: KV self size  =  128.00 MiB, K (f16):   64.00 MiB, V (f16):   64.00 MiB\n",
      "llama_new_context_with_model:        CPU  output buffer size =     0.49 MiB\n",
      "llama_new_context_with_model:        CPU compute buffer size =   258.50 MiB\n",
      "llama_new_context_with_model: graph nodes  = 1030\n",
      "llama_new_context_with_model: graph splits = 1\n",
      "AVX = 1 | AVX_VNNI = 0 | AVX2 = 1 | AVX512 = 0 | AVX512_VBMI = 0 | AVX512_VNNI = 0 | AVX512_BF16 = 0 | FMA = 1 | NEON = 0 | SVE = 0 | ARM_FMA = 0 | F16C = 1 | FP16_VA = 0 | RISCV_VECT = 0 | WASM_SIMD = 0 | BLAS = 0 | SSE3 = 1 | SSSE3 = 1 | VSX = 0 | MATMUL_INT8 = 0 | LLAMAFILE = 1 | \n",
      "Model metadata: {'mradermacher.convert_type': 'hf', 'general.name': 'llama-3-Korean-Bllossom-8B', 'general.architecture': 'llama', 'llama.block_count': '32', 'llama.context_length': '8192', 'tokenizer.ggml.eos_token_id': '128009', 'general.file_type': '15', 'llama.attention.head_count_kv': '8', 'llama.embedding_length': '4096', 'llama.feed_forward_length': '14336', 'llama.attention.head_count': '32', 'llama.rope.freq_base': '500000.000000', 'mradermacher.quantize_version': '2', 'llama.attention.layer_norm_rms_epsilon': '0.000010', 'llama.vocab_size': '128256', 'llama.rope.dimension_count': '128', 'tokenizer.ggml.model': 'gpt2', 'tokenizer.ggml.pre': 'llama-bpe', 'general.source.url': 'https://huggingface.co/MLP-KTLim/llama-3-Korean-Bllossom-8B', 'general.quantization_version': '2', 'tokenizer.ggml.bos_token_id': '128000', 'tokenizer.ggml.padding_token_id': '128001', 'tokenizer.chat_template': \"{% if not add_generation_prompt is defined %}{% set add_generation_prompt = false %}{% endif %}{% set loop_messages = messages %}{% for message in loop_messages %}{% set content = '<|start_header_id|>' + message['role'] + '<|end_header_id|>\\n\\n'+ message['content'] | trim + '<|eot_id|>' %}{% if loop.index0 == 0 %}{% set content = bos_token + content %}{% endif %}{{ content }}{% endfor %}{% if add_generation_prompt %}{{ '<|start_header_id|>assistant<|end_header_id|>\\n\\n' }}{% endif %}\", 'general.url': 'https://huggingface.co/mradermacher/llama-3-Korean-Bllossom-8B-GGUF', 'mradermacher.quantized_by': 'mradermacher', 'mradermacher.quantized_at': '2024-06-18T22:17:22+02:00', 'mradermacher.quantized_on': 'leia'}\n",
      "Available chat formats from metadata: chat_template.default\n",
      "Using gguf chat template: {% if not add_generation_prompt is defined %}{% set add_generation_prompt = false %}{% endif %}{% set loop_messages = messages %}{% for message in loop_messages %}{% set content = '<|start_header_id|>' + message['role'] + '<|end_header_id|>\n",
      "\n",
      "'+ message['content'] | trim + '<|eot_id|>' %}{% if loop.index0 == 0 %}{% set content = bos_token + content %}{% endif %}{{ content }}{% endfor %}{% if add_generation_prompt %}{{ '<|start_header_id|>assistant<|end_header_id|>\n",
      "\n",
      "' }}{% endif %}\n",
      "Using chat eos_token: <|eot_id|>\n",
      "Using chat bos_token: <|begin_of_text|>\n",
      "llama_perf_context_print:        load time =    3303.52 ms\n",
      "llama_perf_context_print: prompt eval time =       0.00 ms /   121 tokens (    0.00 ms per token,      inf tokens per second)\n",
      "llama_perf_context_print:        eval time =       0.00 ms /    20 runs   (    0.00 ms per token,      inf tokens per second)\n",
      "llama_perf_context_print:       total time =    6641.30 ms /   141 tokens\n"
     ]
    },
    {
     "name": "stdout",
     "output_type": "stream",
     "text": [
      "이 질문과 답변은 역사적 사건이나 인물의 설립 날짜에 관한 질문입니다.\n"
     ]
    }
   ],
   "source": [
    "from transformers import LlamaTokenizer, LlamaForCausalLM\n",
    "from tqdm import tqdm\n",
    "import torch\n",
    "from llama_cpp import Llama\n",
    "from transformers import AutoTokenizer\n",
    "\n",
    "model_id = \"MLP-KTLim/llama-3-Korean-Bllossom-8B-gguf-Q4_K_M\"\n",
    "tokenizer = AutoTokenizer.from_pretrained(model_id)\n",
    "model = Llama(\n",
    "    model_path=\"./model/llama-3-Korean-Bllossom-8B-Q4_K_M.gguf\",\n",
    "    n_ctx=1024,\n",
    "    n_gpu_layers=-1,  # Number of model layers to offload to GPU\n",
    ")\n",
    "\n",
    "PROMPT = \"\"\"내가 질문이랑 답변을 주면 해당 질문이 어떤 유형의 답변을 원하는지 단답으로 출력해줘\n",
    "예를들면 질문이 'BBC의 파란 경찰 박스 디자인 상표권에 대한 법적 논란이 종료된 해는?' 이거라면 답이 '2002' 이거일때 해당 답변 유형은 시간이라고 할 수 있어 이것처럼 부탁해\"\"\"\n",
    "\n",
    "instruction = f\"question: {question}, answer: {answer}\"\n",
    "\n",
    "messages = [\n",
    "    {\"role\": \"system\", \"content\": f\"{PROMPT}\"},\n",
    "    {\"role\": \"user\", \"content\": f\"{instruction}\"},\n",
    "]\n",
    "\n",
    "prompt = tokenizer.apply_chat_template(\n",
    "    messages, tokenize=False, add_generation_prompt=True\n",
    ")\n",
    "\n",
    "total_tokens = len(tokenizer(prompt)[\"input_ids\"])\n",
    "\n",
    "generation_kwargs = {\n",
    "    \"max_tokens\": 512,\n",
    "    \"stop\": [\"<|eot_id|>\"],\n",
    "    \"top_p\": 0.9,\n",
    "    \"temperature\": 0.6,\n",
    "    \"echo\": True,  # Echo the prompt in the output\n",
    "}\n",
    "\n",
    "resonse_msg = model(prompt, **generation_kwargs)\n",
    "print(resonse_msg[\"choices\"][0][\"text\"][len(prompt) :])"
   ]
  },
  {
   "cell_type": "code",
   "execution_count": null,
   "metadata": {},
   "outputs": [],
   "source": []
  }
 ],
 "metadata": {
  "kernelspec": {
   "display_name": "mrc_notebook",
   "language": "python",
   "name": "level2-mrc-nlp-14-xx5tfasi"
  },
  "language_info": {
   "codemirror_mode": {
    "name": "ipython",
    "version": 3
   },
   "file_extension": ".py",
   "mimetype": "text/x-python",
   "name": "python",
   "nbconvert_exporter": "python",
   "pygments_lexer": "ipython3",
   "version": "3.12.6"
  }
 },
 "nbformat": 4,
 "nbformat_minor": 2
}
